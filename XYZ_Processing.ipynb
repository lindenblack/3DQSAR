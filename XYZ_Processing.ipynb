{
 "cells": [
  {
   "cell_type": "code",
   "execution_count": null,
   "id": "b316ae30",
   "metadata": {},
   "outputs": [],
   "source": [
    "\"\"\"\n",
    "Code to process the XYZ file produced by open3dqsar into pandas\n",
    "The ASCII did not have grid coords only the energy values\n",
    "The param for the format keyword in export is 'XYZ'\n",
    "Run this code and specify the file name in the fin line\n",
    "Last few cells are the beginnings of a function to process the entire directory\n",
    "\n",
    "##########################\n",
    "Below is the command for open3dqsar to generate the MIF for python\n",
    "##########################\n",
    "\n",
    "import type=mol2 file=\"C:\\data\\comb_therm_train.mol2\"\n",
    "\n",
    "box step=1.0\n",
    "\n",
    "calc_field type=VDW\n",
    "\n",
    "calc_field type=MM_ELE\n",
    "\n",
    "export type=OBJECT_FIELD file=therm format=XYZ \n",
    "\n",
    "\n",
    "\n",
    "\"\"\""
   ]
  },
  {
   "cell_type": "code",
   "execution_count": 1,
   "id": "a951a036",
   "metadata": {},
   "outputs": [],
   "source": [
    "import os\n",
    "import sys\n",
    "import pandas as pd\n",
    "import numpy as  np\n",
    "import time"
   ]
  },
  {
   "cell_type": "code",
   "execution_count": 14,
   "id": "4042ed6e",
   "metadata": {},
   "outputs": [],
   "source": [
    "def set_globals():\n",
    "    global open3D_directory\n",
    "    open3D_directory = \"C:\\open3dtools\"\n",
    "    "
   ]
  },
  {
   "cell_type": "code",
   "execution_count": 21,
   "id": "00665240",
   "metadata": {},
   "outputs": [],
   "source": [
    "def agrd_to_array(entry_path):\n",
    "    fin = open(entry_path, \"rt\")\n",
    "    fout = open(\"out.txt\", \"wt\")\n",
    "\n",
    "    for line in fin:\n",
    "        fout.write(' '.join(line.split()))\n",
    "        fout.write(\"\\n\")\n",
    "\n",
    "    fin.close()\n",
    "    fout.close()  \n",
    "    npdata = np.loadtxt(\"out.txt\",skiprows=5,delimiter=\" \")\n",
    "    MIF = np.zeros([26,31,25])\n",
    "    for line in npdata:\n",
    "        \n",
    "        x,y,z,target = line\n",
    "        x+=10\n",
    "        y+=18\n",
    "        z+=13\n",
    "        MIF[int(x),int(y),int(z)] = target\n",
    "\n",
    "    dataset_name=entry_path[-24:].split(\"_\")[0]\n",
    "    new_path =str(entry_path[-7:-5]+f\"_{dataset_name}\"+\"_\"+entry_path[-18:-12]+'.npy')    \n",
    "    np.save(f\"data/ProcessedData/{new_path}\", MIF)"
   ]
  },
  {
   "cell_type": "code",
   "execution_count": 17,
   "id": "cecd5951",
   "metadata": {},
   "outputs": [],
   "source": [
    "name = r\"C:\\open3dtools\\therm_fld-01_obj-48.agrd\""
   ]
  },
  {
   "cell_type": "code",
   "execution_count": 20,
   "id": "dd937a6e",
   "metadata": {},
   "outputs": [
    {
     "data": {
      "text/plain": [
       "'therm'"
      ]
     },
     "execution_count": 20,
     "metadata": {},
     "output_type": "execute_result"
    }
   ],
   "source": [
    "name[-24:].split(\"_\")[0]"
   ]
  },
  {
   "cell_type": "code",
   "execution_count": 19,
   "id": "068c00d7",
   "metadata": {},
   "outputs": [
    {
     "data": {
      "text/plain": [
       "'en3dtools\\\\therm'"
      ]
     },
     "execution_count": 19,
     "metadata": {},
     "output_type": "execute_result"
    }
   ],
   "source": [
    "name[-34:-19].split(\"_\")[0]"
   ]
  },
  {
   "cell_type": "code",
   "execution_count": 11,
   "id": "834efe36",
   "metadata": {},
   "outputs": [],
   "source": [
    "def process_dataset():\n",
    "    \n",
    "    import os\n",
    "    \n",
    "    for entry in os.scandir(open3D_directory):\n",
    "        if (entry.path.endswith(\".agrd\")):\n",
    "            name = entry.path\n",
    "            agrd_to_array(name)           "
   ]
  },
  {
   "cell_type": "code",
   "execution_count": 23,
   "id": "9b5308c7",
   "metadata": {},
   "outputs": [],
   "source": [
    "if __name__==\"__main__\":\n",
    "    set_globals()\n",
    "    process_dataset()"
   ]
  },
  {
   "cell_type": "code",
   "execution_count": null,
   "id": "05ed9644",
   "metadata": {},
   "outputs": [],
   "source": [
    "\"\"\"\n",
    "\n",
    "import type=mol2 file=\"C:\\data\\comb_therm_train.mol2\"\n",
    "\n",
    "box step=1.0\n",
    "\n",
    "calc_field type=VDW\n",
    "\n",
    "calc_field type=MM_ELE\n",
    "\n",
    "export type=OBJECT_FIELD file=therm format=XYZ \n",
    "\n",
    "\n",
    "\n",
    "\"\"\""
   ]
  }
 ],
 "metadata": {
  "kernelspec": {
   "display_name": "Python 3",
   "language": "python",
   "name": "python3"
  },
  "language_info": {
   "codemirror_mode": {
    "name": "ipython",
    "version": 3
   },
   "file_extension": ".py",
   "mimetype": "text/x-python",
   "name": "python",
   "nbconvert_exporter": "python",
   "pygments_lexer": "ipython3",
   "version": "3.9.5"
  }
 },
 "nbformat": 4,
 "nbformat_minor": 5
}
