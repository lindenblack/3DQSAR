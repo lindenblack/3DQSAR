{
 "cells": [
  {
   "cell_type": "code",
   "execution_count": 1,
   "id": "b316ae30",
   "metadata": {},
   "outputs": [
    {
     "data": {
      "text/plain": [
       "'\\nCode to process the XYZ file produced by open3dqsar into pandas\\nThe ASCII did not have grid coords only the energy values\\nThe param for the format keyword in export is \\'XYZ\\'\\nRun this code and specify the file name in the fin line\\nLast few cells are the beginnings of a function to process the entire directory\\n\\n###############################\\nimport type=dependent file=\"C:\\\\data\\\\Datasets.Py-CoMFA\\x07.THERM\\therm_binding_values.txt\"\\n\\n##########################\\nBelow is the command for open3dqsar to generate the MIF for python\\n##########################\\n\\nimport type=mol2 file=\"C:\\\\data\\\\comb_therm_train.mol2\"\\n\\nbox step=1.0\\n\\ncalc_field type=VDW\\n\\ncalc_field type=MM_ELE\\n\\nexport type=OBJECT_FIELD file=therm format=XYZ \\n\\n \\n\\n\\n'"
      ]
     },
     "execution_count": 1,
     "metadata": {},
     "output_type": "execute_result"
    }
   ],
   "source": [
    "\"\"\"\n",
    "Code to process the XYZ file produced by open3dqsar into pandas\n",
    "The ASCII did not have grid coords only the energy values\n",
    "The param for the format keyword in export is 'XYZ'\n",
    "Run this code and specify the file name in the fin line\n",
    "Last few cells are the beginnings of a function to process the entire directory\n",
    "\n",
    "###############################\n",
    "import type=dependent file=\"C:\\data\\Datasets.Py-CoMFA\\07.THERM\\therm_binding_values.txt\"\n",
    "\n",
    "##########################\n",
    "Below is the command for open3dqsar to generate the MIF for python\n",
    "##########################\n",
    "\n",
    "import type=mol2 file=\"C:\\data\\comb_therm_train.mol2\"\n",
    "\n",
    "box step=1.0\n",
    "\n",
    "calc_field type=VDW\n",
    "\n",
    "calc_field type=MM_ELE\n",
    "\n",
    "export type=OBJECT_FIELD file=therm format=XYZ \n",
    "\n",
    " \n",
    "\n",
    "\n",
    "\"\"\""
   ]
  },
  {
   "cell_type": "code",
   "execution_count": null,
   "id": "da7f8a15",
   "metadata": {},
   "outputs": [],
   "source": []
  },
  {
   "cell_type": "code",
   "execution_count": 2,
   "id": "a951a036",
   "metadata": {},
   "outputs": [],
   "source": [
    "import os\n",
    "import sys\n",
    "import pandas as pd\n",
    "import numpy as  np\n",
    "import time\n",
    "import os\n",
    "import shutil"
   ]
  },
  {
   "cell_type": "code",
   "execution_count": 3,
   "id": "4042ed6e",
   "metadata": {},
   "outputs": [],
   "source": [
    "def set_globals():\n",
    "    global open3D_directory\n",
    "    global dataset_name_num\n",
    "    global MIF_nodes \n",
    "    global xyz_offset\n",
    "    open3D_directory = \"C:\\open3dtools\"\n",
    "    dataset_name_num = \"3u5l\"\n",
    "    MIF_nodes = [23,27,21]\n",
    "    xyz_offset = [25,26,26]"
   ]
  },
  {
   "cell_type": "code",
   "execution_count": 4,
   "id": "00665240",
   "metadata": {},
   "outputs": [],
   "source": [
    "def agrd_to_array(entry_path):\n",
    "    fin = open(entry_path, \"rt\")\n",
    "    fout = open(\"out.txt\", \"wt\")\n",
    "\n",
    "    for line in fin:\n",
    "        fout.write(' '.join(line.split()))\n",
    "        fout.write(\"\\n\")\n",
    "\n",
    "    fin.close()\n",
    "    fout.close()  \n",
    "    npdata = np.loadtxt(\"out.txt\",skiprows=5,delimiter=\" \")\n",
    "    MIF = np.zeros(MIF_nodes)\n",
    "    for line in npdata:\n",
    "        \n",
    "        x,y,z,target = line\n",
    "        x -= xyz_offset[0]\n",
    "        y -= xyz_offset[1]\n",
    "        z -= xyz_offset[2]\n",
    "        MIF[int(x),int(y),int(z)] = target\n",
    "    dataset_name = entry_path[15:].split(\"_\")[0]\n",
    "    number = entry_path[:-5].split(\"-\")[-1]\n",
    "    field = entry_path.split(\"_\")[1]\n",
    "    new_path =str(number+\"_\"+field+'.npy')    \n",
    "    np.save(f\"data/EllenMIF/{dataset_name_num}/{new_path}\", MIF)"
   ]
  },
  {
   "cell_type": "code",
   "execution_count": 5,
   "id": "834efe36",
   "metadata": {},
   "outputs": [],
   "source": [
    "def process_dataset():\n",
    "    itr = 0\n",
    "    parent_dir = r\"C:\\Users\\Linden\\GitHub\\3DQSAR\\data\\EllenMIF\"\n",
    "    new_dir_path = os.path.join(parent_dir, dataset_name_num)\n",
    "    os.mkdir(new_dir_path)\n",
    "    \n",
    "    for entry in os.scandir(open3D_directory):\n",
    "        if (entry.path.endswith(\".agrd\")):\n",
    "            name = entry.path\n",
    "            agrd_to_array(name)\n",
    "        if itr%50==0:\n",
    "            print(itr)\n",
    "        itr+=1\n",
    "            \n",
    "            "
   ]
  },
  {
   "cell_type": "code",
   "execution_count": 6,
   "id": "b322dca9",
   "metadata": {},
   "outputs": [],
   "source": [
    "def generate_labels():\n",
    "    path = os.path.join(r\"C:\\Users\\Linden\\GitHub\\3DQSAR\\data\\DatasetsEdited\",dataset_name_num)\n",
    "    tr = pd.read_csv(os.path.join(path,\"pIC50.tr.txt\"),\n",
    "                     header=None,\n",
    "                     delimiter=\" \",\n",
    "                     names=[\"Name\",\"Y\"],\n",
    "                     index_col=False)\n",
    "    \n",
    "    if os.path.isfile(os.path.join(path,\"pIC50.ts.txt\")) == True:\n",
    "        ts = pd.read_csv(os.path.join(path,\"pIC50.ts.txt\"),\n",
    "                         header=None,\n",
    "                         delimiter=\" \",\n",
    "                         names=[\"Name\",\"Y\"],\n",
    "                         index_col=False)\n",
    "        \n",
    "        Y = pd.concat([tr,ts],ignore_index=True)\n",
    "    else:\n",
    "        Y = tr\n",
    "    Y.sort_values(by=['Name'],inplace=True,ignore_index=True)\n",
    "    count = len(Y)\n",
    "    Y['ID']=np.arange(1,count+1)\n",
    "    Y.to_csv(path_or_buf = os.path.join(\"data/LabelledData/\",\n",
    "                                        dataset_name_num,\n",
    "                                        \"pIC50.csv\"),\n",
    "             index=False)\n",
    "\n",
    "    \n",
    "    "
   ]
  },
  {
   "cell_type": "code",
   "execution_count": 7,
   "id": "9b5308c7",
   "metadata": {},
   "outputs": [
    {
     "name": "stdout",
     "output_type": "stream",
     "text": [
      "0\n",
      "50\n",
      "100\n",
      "150\n",
      "200\n",
      "250\n",
      "300\n",
      "350\n",
      "400\n",
      "450\n",
      "500\n",
      "550\n",
      "600\n",
      "650\n",
      "700\n",
      "750\n",
      "800\n",
      "850\n",
      "900\n",
      "950\n",
      "1000\n",
      "1050\n",
      "1100\n",
      "1150\n",
      "1200\n",
      "1250\n",
      "1300\n",
      "1350\n",
      "1400\n",
      "1450\n",
      "1500\n",
      "1550\n",
      "1600\n",
      "1650\n",
      "1700\n",
      "1750\n",
      "1800\n",
      "1850\n",
      "1900\n",
      "1950\n",
      "2000\n"
     ]
    }
   ],
   "source": [
    "if __name__==\"__main__\":\n",
    "    set_globals()\n",
    "    process_dataset()\n",
    "#     generate_labels()"
   ]
  },
  {
   "cell_type": "code",
   "execution_count": 8,
   "id": "6bbd28cd",
   "metadata": {},
   "outputs": [
    {
     "name": "stdout",
     "output_type": "stream",
     "text": [
      "hi\n"
     ]
    }
   ],
   "source": [
    "print('hi')"
   ]
  },
  {
   "cell_type": "code",
   "execution_count": 9,
   "id": "05ed9644",
   "metadata": {},
   "outputs": [
    {
     "ename": "SyntaxError",
     "evalue": "(unicode error) 'unicodeescape' codec can't decode bytes in position 27-28: truncated \\UXXXXXXXX escape (<ipython-input-9-d6ac462014cb>, line 18)",
     "output_type": "error",
     "traceback": [
      "\u001b[1;36m  File \u001b[1;32m\"<ipython-input-9-d6ac462014cb>\"\u001b[1;36m, line \u001b[1;32m18\u001b[0m\n\u001b[1;33m    \"\"\"\u001b[0m\n\u001b[1;37m       ^\u001b[0m\n\u001b[1;31mSyntaxError\u001b[0m\u001b[1;31m:\u001b[0m (unicode error) 'unicodeescape' codec can't decode bytes in position 27-28: truncated \\UXXXXXXXX escape\n"
     ]
    }
   ],
   "source": [
    "\"\"\"\n",
    "\n",
    "import type=mol2 file=\"C:\\Users\\Linden\\GitHub\\3DQSAR\\data\\DatasetsEdited\\06.DHFR\\Data\\combined_AT2.sdf\"\n",
    "\n",
    "box step=1.0\n",
    "\n",
    "pr\n",
    "\n",
    "\n",
    "\n",
    "X start, X end coordinates:    14.0000, 59.0000\n",
    "Y start, Y end coordinates:    1.0000, 77.0000\n",
    "Z start, Z end coordinates:    -2.0000, 51.0000\n",
    "X nodes:                       46\n",
    "Y nodes:                       77\n",
    "Z nodes:                       54\n",
    "\n",
    "\"\"\""
   ]
  }
 ],
 "metadata": {
  "kernelspec": {
   "display_name": "Python 3",
   "language": "python",
   "name": "python3"
  },
  "language_info": {
   "codemirror_mode": {
    "name": "ipython",
    "version": 3
   },
   "file_extension": ".py",
   "mimetype": "text/x-python",
   "name": "python",
   "nbconvert_exporter": "python",
   "pygments_lexer": "ipython3",
   "version": "3.9.5"
  }
 },
 "nbformat": 4,
 "nbformat_minor": 5
}
