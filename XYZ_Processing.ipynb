{
 "cells": [
  {
   "cell_type": "code",
   "execution_count": null,
   "id": "b316ae30",
   "metadata": {},
   "outputs": [],
   "source": [
    "\"\"\"\n",
    "Code to process the XYZ file produced by open3dqsar into pandas\n",
    "The ASCII did not have grid coords only the energy values\n",
    "The param for the format keyword in export is 'XYZ'\n",
    "Run this code and specify the file name in the fin line\n",
    "Last few cells are the beginnings of a function to process the entire directory\n",
    "\n",
    "###############################\n",
    "import type=dependent file=\"C:\\data\\Datasets.Py-CoMFA\\07.THERM\\therm_binding_values.txt\"\n",
    "\n",
    "##########################\n",
    "Below is the command for open3dqsar to generate the MIF for python\n",
    "##########################\n",
    "\n",
    "import type=mol2 file=\"C:\\data\\comb_therm_train.mol2\"\n",
    "\n",
    "box step=1.0\n",
    "\n",
    "calc_field type=VDW\n",
    "\n",
    "calc_field type=MM_ELE\n",
    "\n",
    "export type=OBJECT_FIELD file=therm format=XYZ \n",
    "\n",
    " \n",
    "\n",
    "\n",
    "\"\"\""
   ]
  },
  {
   "cell_type": "code",
   "execution_count": 1,
   "id": "a951a036",
   "metadata": {},
   "outputs": [],
   "source": [
    "import os\n",
    "import sys\n",
    "import pandas as pd\n",
    "import numpy as  np\n",
    "import time\n",
    "import os\n",
    "import shutil"
   ]
  },
  {
   "cell_type": "code",
   "execution_count": 2,
   "id": "4042ed6e",
   "metadata": {},
   "outputs": [],
   "source": [
    "def set_globals():\n",
    "    global open3D_directory\n",
    "    global dataset_name_num\n",
    "    global MIF_nodes \n",
    "    global xyz_offset\n",
    "    open3D_directory = \"C:\\open3dtools\"\n",
    "    dataset_name_num = \"02.AchE\"\n",
    "    MIF_nodes = [26,29,30]\n",
    "    xyz_offset = [-12,50,53]\n",
    "    "
   ]
  },
  {
   "cell_type": "code",
   "execution_count": 51,
   "id": "00665240",
   "metadata": {},
   "outputs": [],
   "source": [
    "def agrd_to_array(entry_path):\n",
    "    fin = open(entry_path, \"rt\")\n",
    "    fout = open(\"out.txt\", \"wt\")\n",
    "\n",
    "    for line in fin:\n",
    "        fout.write(' '.join(line.split()))\n",
    "        fout.write(\"\\n\")\n",
    "\n",
    "    fin.close()\n",
    "    fout.close()  \n",
    "    npdata = np.loadtxt(\"out.txt\",skiprows=5,delimiter=\" \")\n",
    "    MIF = np.zeros(MIF_nodes)\n",
    "    for line in npdata:\n",
    "        \n",
    "        x,y,z,target = line\n",
    "        x -= xyz_offset[0]\n",
    "        y -= xyz_offset[1]\n",
    "        z -= xyz_offset[2]\n",
    "        MIF[int(x),int(y),int(z)] = target\n",
    "    dataset_name = entry_path[15:].split(\"_\")[0]\n",
    "    number = entry_path[:-5].split(\"-\")[-1]\n",
    "    field = entry_path.split(\"_\")[1]\n",
    "    new_path =str(number+\"_\"+field+'.npy')    \n",
    "    np.save(f\"data/ProcessedData/{dataset_name_num}/{new_path}\", MIF)"
   ]
  },
  {
   "cell_type": "code",
   "execution_count": 52,
   "id": "834efe36",
   "metadata": {},
   "outputs": [],
   "source": [
    "def process_dataset():\n",
    "    \n",
    "    import os\n",
    "    parent_dir = r\"C:\\Users\\Linden\\GitHub\\3DQSAR\\data\\ProcessedData\"\n",
    "    new_dir_path = os.path.join(parent_dir, dataset_name_num)\n",
    "    os.mkdir(new_dir_path)\n",
    "    \n",
    "    for entry in os.scandir(open3D_directory):\n",
    "        if (entry.path.endswith(\".agrd\")):\n",
    "            name = entry.path\n",
    "            agrd_to_array(name)\n",
    "    "
   ]
  },
  {
   "cell_type": "code",
   "execution_count": 57,
   "id": "1cf4b993",
   "metadata": {},
   "outputs": [],
   "source": [
    "def generate_labels():\n",
    "    path = os.path.join(r\"C:\\Users\\Linden\\GitHub\\3DQSAR\\data\\DatasetsEdited\",dataset_name_num)\n",
    "    tr = pd.read_csv(os.path.join(path,\"pIC50.tr.txt\"),header=None,delimiter=\" \",names=[\"Name\",\"Y\"])\n",
    "    if os.path.isfile(os.path.join(path,\"pIC50.ts.txt\")) == True:\n",
    "        ts = pd.read_csv(os.path.join(path,\"pIC50.ts.txt\"),header=None,delimiter=\" \",names=[\"Name\",\"Y\"])\n",
    "        Y = pd.concat([tr,ts],ignore_index=True)\n",
    "    else:\n",
    "        Y = tr\n",
    "    Y.sort_values(by=['Name'],inplace=True,ignore_index=True)\n",
    "    count = len(Y)\n",
    "    Y['ID']=np.arange(1,count+1)\n",
    "    Y.to_csv(path_or_buf = os.path.join(\"data/ProcessedData/\",\n",
    "                                        dataset_name_num,\n",
    "                                        \"pIC50.csv\"),\n",
    "             index=False)\n",
    "\n",
    "    \n",
    "    "
   ]
  },
  {
   "cell_type": "code",
   "execution_count": 58,
   "id": "edadde14",
   "metadata": {},
   "outputs": [],
   "source": [
    "s=r\"C:\\open3dtools\\therm_fld-01_obj-101.agrd\""
   ]
  },
  {
   "cell_type": "code",
   "execution_count": 59,
   "id": "9b5308c7",
   "metadata": {},
   "outputs": [],
   "source": [
    "if __name__==\"__main__\":\n",
    "    set_globals()\n",
    "    process_dataset()\n",
    "    generate_labels()"
   ]
  },
  {
   "cell_type": "code",
   "execution_count": null,
   "id": "05ed9644",
   "metadata": {},
   "outputs": [],
   "source": [
    "\"\"\"\n",
    "\n",
    "import type=mol2 file=\"C:\\Users\\Linden\\GitHub\\3DQSAR\\data\\DatasetsEdited\\02.AchE\\Data\\combined_AchE.sdf\"\n",
    "\n",
    "box step=1.0\n",
    "\n",
    "calc_field type=VDW\n",
    "\n",
    "calc_field type=MM_ELE\n",
    "\n",
    "export type=OBJECT_FIELD file=therm format=XYZ \n",
    "\n",
    "\n",
    "\n",
    "\"\"\""
   ]
  }
 ],
 "metadata": {
  "kernelspec": {
   "display_name": "Python 3",
   "language": "python",
   "name": "python3"
  },
  "language_info": {
   "codemirror_mode": {
    "name": "ipython",
    "version": 3
   },
   "file_extension": ".py",
   "mimetype": "text/x-python",
   "name": "python",
   "nbconvert_exporter": "python",
   "pygments_lexer": "ipython3",
   "version": "3.9.5"
  }
 },
 "nbformat": 4,
 "nbformat_minor": 5
}
