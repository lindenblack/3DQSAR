{
 "cells": [
  {
   "cell_type": "code",
   "execution_count": 1,
   "metadata": {},
   "outputs": [],
   "source": [
    "import tensorflow as tf\n",
    "from tensorflow.keras.preprocessing.image import ImageDataGenerator\n",
    "from tensorflow.keras.models import Sequential, Model\n",
    "from tensorflow.keras.layers import Conv3D, MaxPooling3D\n",
    "from tensorflow.keras.callbacks import EarlyStopping\n",
    "from tensorflow.keras.models import load_model\n",
    "from tensorflow.keras.layers import BatchNormalization,Flatten,\\\n",
    "Add,Input,Dense, Dropout, Activation, InputLayer\n",
    "from tensorflow.keras.optimizers import Adam\n",
    "\n",
    "\n",
    "\n",
    "from augmentation_code import data_augmentation\n",
    "import numpy as np\n",
    "import cv2\n",
    "import matplotlib.pyplot as plt\n",
    "%matplotlib inline\n",
    "import pandas as pd\n",
    "import os "
   ]
  },
  {
   "cell_type": "code",
   "execution_count": 2,
   "metadata": {},
   "outputs": [],
   "source": [
    "def set_globals():\n",
    "    global open3D_directory\n",
    "    global dataset_name_num\n",
    "    global MIF_nodes \n",
    "    global xyz_offset\n",
    "    open3D_directory = \"C:\\open3dtools\"\n",
    "    dataset_name_num = \"06.DHFR\"\n",
    "    MIF_nodes = [23,27,21]\n",
    "    xyz_offset = [-11,-10,-9]\n",
    "set_globals()"
   ]
  },
  {
   "cell_type": "code",
   "execution_count": 3,
   "metadata": {},
   "outputs": [],
   "source": [
    "def import_data():\n",
    "    path = os.path.join(r\"C:\\Users\\Linden\\GitHub\\3DQSAR\\data\\LabelledData\",dataset_name_num)\n",
    "    labels = pd.read_csv(os.path.join(path,\"pIC50.CSV\"))\n",
    "    Y = labels[\"Y\"].to_numpy()\n",
    "\n",
    "    data=[]\n",
    "\n",
    "    for entry in os.scandir(path):\n",
    "        if (entry.path.endswith(\".npy\")):\n",
    "            file = np.load(entry.path)\n",
    "            data.append(file)\n",
    "    field_1 = data[0::2]\n",
    "    field_2 = data[1::2]\n",
    "    X_1 = np.stack(field_1,0)\n",
    "    X_2 = np.stack(field_2,0)    \n",
    "    \n",
    "    return X_1, X_2, Y"
   ]
  },
  {
   "cell_type": "code",
   "execution_count": 36,
   "metadata": {},
   "outputs": [],
   "source": [
    "X_1, X_2, Y = import_data()"
   ]
  },
  {
   "cell_type": "code",
   "execution_count": null,
   "metadata": {},
   "outputs": [],
   "source": [
    "X_1"
   ]
  },
  {
   "cell_type": "code",
   "execution_count": 42,
   "metadata": {},
   "outputs": [
    {
     "data": {
      "text/plain": [
       "(25, 24, 26)"
      ]
     },
     "execution_count": 42,
     "metadata": {},
     "output_type": "execute_result"
    }
   ],
   "source": [
    "X_1[285].shape"
   ]
  },
  {
   "cell_type": "code",
   "execution_count": 24,
   "metadata": {},
   "outputs": [],
   "source": [
    "####Augment and extend data\n",
    "# X_1, X_2, Y = data_augmentation(X_1,X_2,Y,augment_repetitions=5)"
   ]
  },
  {
   "cell_type": "code",
   "execution_count": 25,
   "metadata": {},
   "outputs": [],
   "source": [
    "###Pickle data"
   ]
  },
  {
   "cell_type": "code",
   "execution_count": 26,
   "metadata": {},
   "outputs": [],
   "source": [
    "###Normalise image data \n",
    "###Normalise by amax value?"
   ]
  },
  {
   "cell_type": "code",
   "execution_count": 27,
   "metadata": {},
   "outputs": [
    {
     "data": {
      "text/plain": [
       "(306, 25, 24, 26)"
      ]
     },
     "execution_count": 27,
     "metadata": {},
     "output_type": "execute_result"
    }
   ],
   "source": [
    "X_1.shape"
   ]
  },
  {
   "cell_type": "code",
   "execution_count": 28,
   "metadata": {},
   "outputs": [],
   "source": [
    "###Reshape\n",
    "X_1 = np.reshape(X_1,(X_1.shape[0],X_1.shape[1],X_1.shape[2],X_1.shape[3],1))\n",
    "X_2 = np.reshape(X_2,(X_2.shape[0],X_2.shape[1],X_2.shape[2],X_2.shape[3],1))"
   ]
  },
  {
   "cell_type": "code",
   "execution_count": 29,
   "metadata": {},
   "outputs": [],
   "source": [
    "###Shuffle\n",
    "permutation = np.random.RandomState(seed=42)\\\n",
    "                .permutation(X_1.shape[0])\n",
    "\n",
    "X_1 = X_1[permutation]\n",
    "X_2 = X_2[permutation]\n",
    "Y = Y[permutation]"
   ]
  },
  {
   "cell_type": "code",
   "execution_count": 30,
   "metadata": {},
   "outputs": [],
   "source": [
    "####Train test split\n",
    "train_upper = int(np.around(X_1.shape[0]*0.9,0))\n",
    "\n",
    "X_1_train = X_1[:train_upper]\n",
    "X_2_train = X_2[:train_upper]\n",
    "X_1_test = X_1[train_upper:]\n",
    "X_2_test = X_2[train_upper:]\n",
    "\n",
    "Y_train = Y[:train_upper]\n",
    "Y_test = Y[train_upper:]"
   ]
  },
  {
   "cell_type": "code",
   "execution_count": 31,
   "metadata": {},
   "outputs": [],
   "source": [
    "###Train validation split\n",
    "train_upper = int(np.around(X_1_train.shape[0]*0.8,0))\n",
    "X_1_val = X_1_train[train_upper:]\n",
    "X_2_val = X_2_train[train_upper:]\n",
    "X_1_train = X_1_train[:train_upper]\n",
    "X_2_train = X_2_train[:train_upper]\n",
    "\n",
    "Y_val = Y_train[train_upper:]\n",
    "Y_train = Y_train[:train_upper]\n"
   ]
  },
  {
   "cell_type": "code",
   "execution_count": 32,
   "metadata": {},
   "outputs": [],
   "source": [
    "def build_CNN():\n",
    "    model = Sequential(name='CNN')\n",
    "    \n",
    "    # elu=Exponential Linear Unit, similar to leaky Relu\n",
    "    #perhaps normalise in layer 1 \n",
    "    \n",
    "    # Convolution Layers\n",
    "    inputs = Input(shape=(X_1_train.shape[1], X_1_train.shape[2],X_1_train.shape[3],X_1_train.shape[4]))\n",
    "    model = MaxPooling3D(pool_size=(2,2,2))(inputs)\n",
    "    model = Conv3D(32, (2, 2, 2), strides=(1, 1, 1), activation='relu')(model)\n",
    "    model = MaxPooling3D(pool_size=(2,2,2))(model)\n",
    "    model = Conv3D(64, (2, 2, 2), strides=(1, 1, 1), activation='relu')(model)\n",
    "    model = MaxPooling3D(pool_size=(2,2,2))(model)\n",
    "    model = Conv3D(128, (2, 2, 2), strides=(1, 1, 1), activation='relu')(model)\n",
    "    \n",
    "    model = Flatten()(model)\n",
    "    model = Dense(15,activation='relu')(model)\n",
    "    output = model\n",
    "    \n",
    "    model = Model(inputs=inputs, outputs=output)\n",
    "\n",
    "    return model\n"
   ]
  },
  {
   "cell_type": "code",
   "execution_count": 33,
   "metadata": {},
   "outputs": [],
   "source": [
    "def two_headed_network():\n",
    "    X_1_CNN = build_CNN()\n",
    "    X_2_CNN = build_CNN()\n",
    "    network = Add()([X_1_CNN.output,X_2_CNN.output])\n",
    "    network = Flatten()(network)\n",
    "    network = Dense(10,activation='relu')(network)\n",
    "    network = Dense(1,activation = 'linear')(network)\n",
    "    model = Model([X_1_CNN.input, X_2_CNN.input], network)\n",
    "    optimizer = Adam(learning_rate=1e-3)\n",
    "    model.compile(loss='mse', optimizer=optimizer, metrics=['accuracy'])\n",
    "    \n",
    "    return model  \n",
    "CNN = two_headed_network()"
   ]
  },
  {
   "cell_type": "code",
   "execution_count": 34,
   "metadata": {
    "collapsed": true
   },
   "outputs": [
    {
     "name": "stdout",
     "output_type": "stream",
     "text": [
      "Model: \"model_8\"\n",
      "__________________________________________________________________________________________________\n",
      "Layer (type)                    Output Shape         Param #     Connected to                     \n",
      "==================================================================================================\n",
      "input_6 (InputLayer)            [(None, 25, 24, 26,  0                                            \n",
      "__________________________________________________________________________________________________\n",
      "input_7 (InputLayer)            [(None, 25, 24, 26,  0                                            \n",
      "__________________________________________________________________________________________________\n",
      "max_pooling3d_13 (MaxPooling3D) (None, 12, 12, 13, 1 0           input_6[0][0]                    \n",
      "__________________________________________________________________________________________________\n",
      "max_pooling3d_16 (MaxPooling3D) (None, 12, 12, 13, 1 0           input_7[0][0]                    \n",
      "__________________________________________________________________________________________________\n",
      "conv3d_12 (Conv3D)              (None, 11, 11, 12, 3 288         max_pooling3d_13[0][0]           \n",
      "__________________________________________________________________________________________________\n",
      "conv3d_15 (Conv3D)              (None, 11, 11, 12, 3 288         max_pooling3d_16[0][0]           \n",
      "__________________________________________________________________________________________________\n",
      "max_pooling3d_14 (MaxPooling3D) (None, 5, 5, 6, 32)  0           conv3d_12[0][0]                  \n",
      "__________________________________________________________________________________________________\n",
      "max_pooling3d_17 (MaxPooling3D) (None, 5, 5, 6, 32)  0           conv3d_15[0][0]                  \n",
      "__________________________________________________________________________________________________\n",
      "conv3d_13 (Conv3D)              (None, 4, 4, 5, 64)  16448       max_pooling3d_14[0][0]           \n",
      "__________________________________________________________________________________________________\n",
      "conv3d_16 (Conv3D)              (None, 4, 4, 5, 64)  16448       max_pooling3d_17[0][0]           \n",
      "__________________________________________________________________________________________________\n",
      "max_pooling3d_15 (MaxPooling3D) (None, 2, 2, 2, 64)  0           conv3d_13[0][0]                  \n",
      "__________________________________________________________________________________________________\n",
      "max_pooling3d_18 (MaxPooling3D) (None, 2, 2, 2, 64)  0           conv3d_16[0][0]                  \n",
      "__________________________________________________________________________________________________\n",
      "conv3d_14 (Conv3D)              (None, 1, 1, 1, 128) 65664       max_pooling3d_15[0][0]           \n",
      "__________________________________________________________________________________________________\n",
      "conv3d_17 (Conv3D)              (None, 1, 1, 1, 128) 65664       max_pooling3d_18[0][0]           \n",
      "__________________________________________________________________________________________________\n",
      "flatten_6 (Flatten)             (None, 128)          0           conv3d_14[0][0]                  \n",
      "__________________________________________________________________________________________________\n",
      "flatten_7 (Flatten)             (None, 128)          0           conv3d_17[0][0]                  \n",
      "__________________________________________________________________________________________________\n",
      "dense_6 (Dense)                 (None, 15)           1935        flatten_6[0][0]                  \n",
      "__________________________________________________________________________________________________\n",
      "dense_7 (Dense)                 (None, 15)           1935        flatten_7[0][0]                  \n",
      "__________________________________________________________________________________________________\n",
      "add_2 (Add)                     (None, 15)           0           dense_6[0][0]                    \n",
      "                                                                 dense_7[0][0]                    \n",
      "__________________________________________________________________________________________________\n",
      "flatten_8 (Flatten)             (None, 15)           0           add_2[0][0]                      \n",
      "__________________________________________________________________________________________________\n",
      "dense_8 (Dense)                 (None, 10)           160         flatten_8[0][0]                  \n",
      "__________________________________________________________________________________________________\n",
      "dense_9 (Dense)                 (None, 1)            11          dense_8[0][0]                    \n",
      "==================================================================================================\n",
      "Total params: 168,841\n",
      "Trainable params: 168,841\n",
      "Non-trainable params: 0\n",
      "__________________________________________________________________________________________________\n"
     ]
    }
   ],
   "source": [
    "CNN.summary()"
   ]
  },
  {
   "cell_type": "code",
   "execution_count": 35,
   "metadata": {
    "collapsed": true
   },
   "outputs": [
    {
     "name": "stdout",
     "output_type": "stream",
     "text": [
      "Epoch 1/200\n",
      "4/4 [==============================] - 16s 2s/step - loss: 5207393280.0000 - accuracy: 0.0000e+00 - val_loss: 307560352.0000 - val_accuracy: 0.0000e+00\n",
      "Epoch 2/200\n",
      "4/4 [==============================] - 6s 2s/step - loss: 640408704.0000 - accuracy: 0.0000e+00 - val_loss: 43183024.0000 - val_accuracy: 0.0000e+00\n",
      "Epoch 3/200\n",
      "4/4 [==============================] - 6s 2s/step - loss: 226892768.0000 - accuracy: 0.0000e+00 - val_loss: 227833.5781 - val_accuracy: 0.0000e+00\n",
      "Epoch 4/200\n",
      "4/4 [==============================] - 8s 2s/step - loss: 100695.3281 - accuracy: 0.0000e+00 - val_loss: 911.5555 - val_accuracy: 0.0000e+00\n",
      "Epoch 5/200\n",
      "4/4 [==============================] - 7s 2s/step - loss: 30296.2188 - accuracy: 0.0000e+00 - val_loss: 41.6609 - val_accuracy: 0.0000e+00\n",
      "Epoch 6/200\n",
      "4/4 [==============================] - 6s 2s/step - loss: 4361.3330 - accuracy: 0.0000e+00 - val_loss: 41.6595 - val_accuracy: 0.0000e+00\n",
      "Epoch 7/200\n",
      "4/4 [==============================] - 6s 2s/step - loss: 42.0097 - accuracy: 0.0000e+00 - val_loss: 41.6585 - val_accuracy: 0.0000e+00\n",
      "Epoch 8/200\n",
      "4/4 [==============================] - 7s 2s/step - loss: 42.0088 - accuracy: 0.0000e+00 - val_loss: 41.6578 - val_accuracy: 0.0000e+00\n",
      "Epoch 9/200\n",
      "4/4 [==============================] - 7s 2s/step - loss: 42.0082 - accuracy: 0.0000e+00 - val_loss: 41.6573 - val_accuracy: 0.0000e+00\n",
      "Epoch 10/200\n",
      "4/4 [==============================] - 9s 3s/step - loss: 42.0078 - accuracy: 0.0000e+00 - val_loss: 41.6570 - val_accuracy: 0.0000e+00\n",
      "Epoch 11/200\n",
      "4/4 [==============================] - 7s 2s/step - loss: 42.0074 - accuracy: 0.0000e+00 - val_loss: 41.6567 - val_accuracy: 0.0000e+00\n",
      "Epoch 12/200\n",
      "4/4 [==============================] - 9s 3s/step - loss: 42.0072 - accuracy: 0.0000e+00 - val_loss: 41.6565 - val_accuracy: 0.0000e+00\n",
      "Epoch 13/200\n",
      "4/4 [==============================] - 7s 2s/step - loss: 42.0070 - accuracy: 0.0000e+00 - val_loss: 41.6563 - val_accuracy: 0.0000e+00\n",
      "Epoch 14/200\n",
      "4/4 [==============================] - 6s 2s/step - loss: 42.0069 - accuracy: 0.0000e+00 - val_loss: 41.6562 - val_accuracy: 0.0000e+00\n",
      "Epoch 15/200\n",
      "4/4 [==============================] - 6s 2s/step - loss: 42.0068 - accuracy: 0.0000e+00 - val_loss: 41.6561 - val_accuracy: 0.0000e+00\n",
      "Epoch 16/200\n",
      "4/4 [==============================] - 10s 3s/step - loss: 42.0067 - accuracy: 0.0000e+00 - val_loss: 41.6560 - val_accuracy: 0.0000e+00\n",
      "Epoch 17/200\n",
      "4/4 [==============================] - 9s 3s/step - loss: 42.0066 - accuracy: 0.0000e+00 - val_loss: 41.6560 - val_accuracy: 0.0000e+00\n",
      "Epoch 18/200\n",
      "4/4 [==============================] - 9s 3s/step - loss: 42.0065 - accuracy: 0.0000e+00 - val_loss: 41.6559 - val_accuracy: 0.0000e+00\n",
      "Epoch 19/200\n",
      "4/4 [==============================] - 11s 3s/step - loss: 42.0064 - accuracy: 0.0000e+00 - val_loss: 41.6558 - val_accuracy: 0.0000e+00\n",
      "Epoch 20/200\n",
      "4/4 [==============================] - 11s 4s/step - loss: 42.0064 - accuracy: 0.0000e+00 - val_loss: 41.6557 - val_accuracy: 0.0000e+00\n",
      "Epoch 21/200\n",
      "4/4 [==============================] - 7s 2s/step - loss: 42.0063 - accuracy: 0.0000e+00 - val_loss: 41.6557 - val_accuracy: 0.0000e+00\n",
      "Epoch 22/200\n",
      "4/4 [==============================] - 7s 2s/step - loss: 42.0062 - accuracy: 0.0000e+00 - val_loss: 41.6556 - val_accuracy: 0.0000e+00\n",
      "Epoch 23/200\n",
      "4/4 [==============================] - 6s 2s/step - loss: 42.0061 - accuracy: 0.0000e+00 - val_loss: 41.6555 - val_accuracy: 0.0000e+00\n",
      "Epoch 24/200\n",
      "4/4 [==============================] - 11s 3s/step - loss: 42.0061 - accuracy: 0.0000e+00 - val_loss: 41.6555 - val_accuracy: 0.0000e+00\n",
      "Epoch 25/200\n",
      "4/4 [==============================] - 7s 2s/step - loss: 42.0060 - accuracy: 0.0000e+00 - val_loss: 41.6554 - val_accuracy: 0.0000e+00\n",
      "Epoch 26/200\n",
      "4/4 [==============================] - 10s 3s/step - loss: 42.0059 - accuracy: 0.0000e+00 - val_loss: 41.6553 - val_accuracy: 0.0000e+00\n",
      "Epoch 27/200\n",
      "4/4 [==============================] - 9s 2s/step - loss: 42.0059 - accuracy: 0.0000e+00 - val_loss: 41.6552 - val_accuracy: 0.0000e+00\n",
      "Epoch 28/200\n",
      "4/4 [==============================] - 8s 2s/step - loss: 42.0058 - accuracy: 0.0000e+00 - val_loss: 41.6551 - val_accuracy: 0.0000e+00\n",
      "Epoch 29/200\n",
      "4/4 [==============================] - 6s 2s/step - loss: 42.0057 - accuracy: 0.0000e+00 - val_loss: 41.6551 - val_accuracy: 0.0000e+00\n",
      "Epoch 30/200\n",
      "4/4 [==============================] - 7s 2s/step - loss: 42.0056 - accuracy: 0.0000e+00 - val_loss: 41.6550 - val_accuracy: 0.0000e+00\n",
      "Epoch 31/200\n",
      "4/4 [==============================] - 6s 2s/step - loss: 42.0055 - accuracy: 0.0000e+00 - val_loss: 41.6549 - val_accuracy: 0.0000e+00\n",
      "Epoch 32/200\n",
      "4/4 [==============================] - 6s 2s/step - loss: 42.0055 - accuracy: 0.0000e+00 - val_loss: 41.6548 - val_accuracy: 0.0000e+00\n",
      "Epoch 33/200\n",
      "4/4 [==============================] - 6s 2s/step - loss: 42.0054 - accuracy: 0.0000e+00 - val_loss: 41.6547 - val_accuracy: 0.0000e+00\n",
      "Epoch 34/200\n",
      "4/4 [==============================] - 6s 2s/step - loss: 42.0053 - accuracy: 0.0000e+00 - val_loss: 41.6547 - val_accuracy: 0.0000e+00\n",
      "Epoch 35/200\n",
      "4/4 [==============================] - 8s 3s/step - loss: 42.0052 - accuracy: 0.0000e+00 - val_loss: 41.6546 - val_accuracy: 0.0000e+00\n",
      "Epoch 36/200\n",
      "4/4 [==============================] - 7s 2s/step - loss: 42.0051 - accuracy: 0.0000e+00 - val_loss: 41.6545 - val_accuracy: 0.0000e+00\n",
      "Epoch 37/200\n",
      "4/4 [==============================] - 8s 2s/step - loss: 42.0050 - accuracy: 0.0000e+00 - val_loss: 41.6544 - val_accuracy: 0.0000e+00\n",
      "Epoch 38/200\n",
      "4/4 [==============================] - 8s 2s/step - loss: 42.0049 - accuracy: 0.0000e+00 - val_loss: 41.6543 - val_accuracy: 0.0000e+00\n",
      "Epoch 39/200\n",
      "4/4 [==============================] - 7s 2s/step - loss: 42.0048 - accuracy: 0.0000e+00 - val_loss: 41.6542 - val_accuracy: 0.0000e+00\n",
      "Epoch 40/200\n",
      "4/4 [==============================] - 14s 4s/step - loss: 42.0047 - accuracy: 0.0000e+00 - val_loss: 41.6541 - val_accuracy: 0.0000e+00\n",
      "Epoch 41/200\n",
      "4/4 [==============================] - 8s 2s/step - loss: 42.0046 - accuracy: 0.0000e+00 - val_loss: 41.6540 - val_accuracy: 0.0000e+00\n",
      "Epoch 42/200\n",
      "4/4 [==============================] - 9s 3s/step - loss: 42.0045 - accuracy: 0.0000e+00 - val_loss: 41.6539 - val_accuracy: 0.0000e+00\n",
      "Epoch 43/200\n",
      "4/4 [==============================] - 6s 2s/step - loss: 42.0044 - accuracy: 0.0000e+00 - val_loss: 41.6538 - val_accuracy: 0.0000e+00\n",
      "Epoch 44/200\n",
      "4/4 [==============================] - 6s 2s/step - loss: 42.0043 - accuracy: 0.0000e+00 - val_loss: 41.6537 - val_accuracy: 0.0000e+00\n",
      "Epoch 45/200\n",
      "4/4 [==============================] - 6s 2s/step - loss: 42.0043 - accuracy: 0.0000e+00 - val_loss: 41.6536 - val_accuracy: 0.0000e+00\n",
      "Epoch 46/200\n",
      "4/4 [==============================] - 6s 2s/step - loss: 42.0042 - accuracy: 0.0000e+00 - val_loss: 41.6535 - val_accuracy: 0.0000e+00\n",
      "Epoch 47/200\n",
      "4/4 [==============================] - 6s 2s/step - loss: 42.0041 - accuracy: 0.0000e+00 - val_loss: 41.6534 - val_accuracy: 0.0000e+00\n",
      "Epoch 48/200\n",
      "4/4 [==============================] - 6s 2s/step - loss: 42.0040 - accuracy: 0.0000e+00 - val_loss: 41.6533 - val_accuracy: 0.0000e+00\n",
      "Epoch 49/200\n",
      "4/4 [==============================] - 6s 2s/step - loss: 42.0038 - accuracy: 0.0000e+00 - val_loss: 41.6532 - val_accuracy: 0.0000e+00\n",
      "Epoch 50/200\n",
      "4/4 [==============================] - 6s 2s/step - loss: 42.0037 - accuracy: 0.0000e+00 - val_loss: 41.6531 - val_accuracy: 0.0000e+00\n",
      "Epoch 51/200\n",
      "4/4 [==============================] - 6s 2s/step - loss: 42.0036 - accuracy: 0.0000e+00 - val_loss: 41.6530 - val_accuracy: 0.0000e+00\n",
      "Epoch 52/200\n",
      "4/4 [==============================] - 11s 3s/step - loss: 42.0035 - accuracy: 0.0000e+00 - val_loss: 41.6529 - val_accuracy: 0.0000e+00\n",
      "Epoch 53/200\n",
      "4/4 [==============================] - 6s 2s/step - loss: 42.0034 - accuracy: 0.0000e+00 - val_loss: 41.6528 - val_accuracy: 0.0000e+00\n",
      "Epoch 54/200\n",
      "4/4 [==============================] - 9s 3s/step - loss: 42.0033 - accuracy: 0.0000e+00 - val_loss: 41.6527 - val_accuracy: 0.0000e+00\n",
      "Epoch 55/200\n",
      "4/4 [==============================] - 7s 2s/step - loss: 42.0032 - accuracy: 0.0000e+00 - val_loss: 41.6526 - val_accuracy: 0.0000e+00\n"
     ]
    },
    {
     "name": "stdout",
     "output_type": "stream",
     "text": [
      "Epoch 56/200\n",
      "4/4 [==============================] - 6s 2s/step - loss: 42.0031 - accuracy: 0.0000e+00 - val_loss: 41.6524 - val_accuracy: 0.0000e+00\n",
      "Epoch 57/200\n",
      "4/4 [==============================] - 7s 2s/step - loss: 42.0030 - accuracy: 0.0000e+00 - val_loss: 41.6523 - val_accuracy: 0.0000e+00\n",
      "Epoch 58/200\n",
      "4/4 [==============================] - 6s 2s/step - loss: 42.0028 - accuracy: 0.0000e+00 - val_loss: 41.6522 - val_accuracy: 0.0000e+00\n",
      "Epoch 59/200\n",
      "4/4 [==============================] - 6s 2s/step - loss: 42.0027 - accuracy: 0.0000e+00 - val_loss: 41.6521 - val_accuracy: 0.0000e+00\n",
      "Epoch 60/200\n",
      "4/4 [==============================] - 12s 4s/step - loss: 42.0026 - accuracy: 0.0000e+00 - val_loss: 41.6520 - val_accuracy: 0.0000e+00\n",
      "Epoch 61/200\n",
      "4/4 [==============================] - 8s 2s/step - loss: 42.0025 - accuracy: 0.0000e+00 - val_loss: 41.6519 - val_accuracy: 0.0000e+00\n",
      "Epoch 62/200\n",
      "4/4 [==============================] - 7s 2s/step - loss: 42.0024 - accuracy: 0.0000e+00 - val_loss: 41.6517 - val_accuracy: 0.0000e+00\n",
      "Epoch 63/200\n",
      "4/4 [==============================] - 8s 2s/step - loss: 42.0023 - accuracy: 0.0000e+00 - val_loss: 41.6516 - val_accuracy: 0.0000e+00\n",
      "Epoch 64/200\n",
      "4/4 [==============================] - ETA: 0s - loss: 42.0021 - accuracy: 0.0000e+00"
     ]
    },
    {
     "ename": "KeyboardInterrupt",
     "evalue": "",
     "output_type": "error",
     "traceback": [
      "\u001b[1;31m---------------------------------------------------------------------------\u001b[0m",
      "\u001b[1;31mKeyboardInterrupt\u001b[0m                         Traceback (most recent call last)",
      "\u001b[1;32m<ipython-input-35-349f3b0b129a>\u001b[0m in \u001b[0;36m<module>\u001b[1;34m\u001b[0m\n\u001b[0;32m      9\u001b[0m                         restore_best_weights=True)\n\u001b[0;32m     10\u001b[0m \u001b[1;33m\u001b[0m\u001b[0m\n\u001b[1;32m---> 11\u001b[1;33m CNN.fit([X_1_train, X_2_train],\n\u001b[0m\u001b[0;32m     12\u001b[0m         \u001b[0mY_train\u001b[0m\u001b[1;33m,\u001b[0m\u001b[1;33m\u001b[0m\u001b[1;33m\u001b[0m\u001b[0m\n\u001b[0;32m     13\u001b[0m         \u001b[0mbatch_size\u001b[0m\u001b[1;33m=\u001b[0m\u001b[1;36m64\u001b[0m\u001b[1;33m,\u001b[0m\u001b[1;33m\u001b[0m\u001b[1;33m\u001b[0m\u001b[0m\n",
      "\u001b[1;32m~\\anaconda3\\envs\\3DQSAR\\lib\\site-packages\\tensorflow\\python\\keras\\engine\\training.py\u001b[0m in \u001b[0;36mfit\u001b[1;34m(self, x, y, batch_size, epochs, verbose, callbacks, validation_split, validation_data, shuffle, class_weight, sample_weight, initial_epoch, steps_per_epoch, validation_steps, validation_batch_size, validation_freq, max_queue_size, workers, use_multiprocessing)\u001b[0m\n\u001b[0;32m   1212\u001b[0m                 \u001b[0mmodel\u001b[0m\u001b[1;33m=\u001b[0m\u001b[0mself\u001b[0m\u001b[1;33m,\u001b[0m\u001b[1;33m\u001b[0m\u001b[1;33m\u001b[0m\u001b[0m\n\u001b[0;32m   1213\u001b[0m                 steps_per_execution=self._steps_per_execution)\n\u001b[1;32m-> 1214\u001b[1;33m           val_logs = self.evaluate(\n\u001b[0m\u001b[0;32m   1215\u001b[0m               \u001b[0mx\u001b[0m\u001b[1;33m=\u001b[0m\u001b[0mval_x\u001b[0m\u001b[1;33m,\u001b[0m\u001b[1;33m\u001b[0m\u001b[1;33m\u001b[0m\u001b[0m\n\u001b[0;32m   1216\u001b[0m               \u001b[0my\u001b[0m\u001b[1;33m=\u001b[0m\u001b[0mval_y\u001b[0m\u001b[1;33m,\u001b[0m\u001b[1;33m\u001b[0m\u001b[1;33m\u001b[0m\u001b[0m\n",
      "\u001b[1;32m~\\anaconda3\\envs\\3DQSAR\\lib\\site-packages\\tensorflow\\python\\keras\\engine\\training.py\u001b[0m in \u001b[0;36mevaluate\u001b[1;34m(self, x, y, batch_size, verbose, sample_weight, steps, callbacks, max_queue_size, workers, use_multiprocessing, return_dict, **kwargs)\u001b[0m\n\u001b[0;32m   1487\u001b[0m             \u001b[1;32mwith\u001b[0m \u001b[0mtrace\u001b[0m\u001b[1;33m.\u001b[0m\u001b[0mTrace\u001b[0m\u001b[1;33m(\u001b[0m\u001b[1;34m'test'\u001b[0m\u001b[1;33m,\u001b[0m \u001b[0mstep_num\u001b[0m\u001b[1;33m=\u001b[0m\u001b[0mstep\u001b[0m\u001b[1;33m,\u001b[0m \u001b[0m_r\u001b[0m\u001b[1;33m=\u001b[0m\u001b[1;36m1\u001b[0m\u001b[1;33m)\u001b[0m\u001b[1;33m:\u001b[0m\u001b[1;33m\u001b[0m\u001b[1;33m\u001b[0m\u001b[0m\n\u001b[0;32m   1488\u001b[0m               \u001b[0mcallbacks\u001b[0m\u001b[1;33m.\u001b[0m\u001b[0mon_test_batch_begin\u001b[0m\u001b[1;33m(\u001b[0m\u001b[0mstep\u001b[0m\u001b[1;33m)\u001b[0m\u001b[1;33m\u001b[0m\u001b[1;33m\u001b[0m\u001b[0m\n\u001b[1;32m-> 1489\u001b[1;33m               \u001b[0mtmp_logs\u001b[0m \u001b[1;33m=\u001b[0m \u001b[0mself\u001b[0m\u001b[1;33m.\u001b[0m\u001b[0mtest_function\u001b[0m\u001b[1;33m(\u001b[0m\u001b[0miterator\u001b[0m\u001b[1;33m)\u001b[0m\u001b[1;33m\u001b[0m\u001b[1;33m\u001b[0m\u001b[0m\n\u001b[0m\u001b[0;32m   1490\u001b[0m               \u001b[1;32mif\u001b[0m \u001b[0mdata_handler\u001b[0m\u001b[1;33m.\u001b[0m\u001b[0mshould_sync\u001b[0m\u001b[1;33m:\u001b[0m\u001b[1;33m\u001b[0m\u001b[1;33m\u001b[0m\u001b[0m\n\u001b[0;32m   1491\u001b[0m                 \u001b[0mcontext\u001b[0m\u001b[1;33m.\u001b[0m\u001b[0masync_wait\u001b[0m\u001b[1;33m(\u001b[0m\u001b[1;33m)\u001b[0m\u001b[1;33m\u001b[0m\u001b[1;33m\u001b[0m\u001b[0m\n",
      "\u001b[1;32m~\\anaconda3\\envs\\3DQSAR\\lib\\site-packages\\tensorflow\\python\\eager\\def_function.py\u001b[0m in \u001b[0;36m__call__\u001b[1;34m(self, *args, **kwds)\u001b[0m\n\u001b[0;32m    887\u001b[0m \u001b[1;33m\u001b[0m\u001b[0m\n\u001b[0;32m    888\u001b[0m       \u001b[1;32mwith\u001b[0m \u001b[0mOptionalXlaContext\u001b[0m\u001b[1;33m(\u001b[0m\u001b[0mself\u001b[0m\u001b[1;33m.\u001b[0m\u001b[0m_jit_compile\u001b[0m\u001b[1;33m)\u001b[0m\u001b[1;33m:\u001b[0m\u001b[1;33m\u001b[0m\u001b[1;33m\u001b[0m\u001b[0m\n\u001b[1;32m--> 889\u001b[1;33m         \u001b[0mresult\u001b[0m \u001b[1;33m=\u001b[0m \u001b[0mself\u001b[0m\u001b[1;33m.\u001b[0m\u001b[0m_call\u001b[0m\u001b[1;33m(\u001b[0m\u001b[1;33m*\u001b[0m\u001b[0margs\u001b[0m\u001b[1;33m,\u001b[0m \u001b[1;33m**\u001b[0m\u001b[0mkwds\u001b[0m\u001b[1;33m)\u001b[0m\u001b[1;33m\u001b[0m\u001b[1;33m\u001b[0m\u001b[0m\n\u001b[0m\u001b[0;32m    890\u001b[0m \u001b[1;33m\u001b[0m\u001b[0m\n\u001b[0;32m    891\u001b[0m       \u001b[0mnew_tracing_count\u001b[0m \u001b[1;33m=\u001b[0m \u001b[0mself\u001b[0m\u001b[1;33m.\u001b[0m\u001b[0mexperimental_get_tracing_count\u001b[0m\u001b[1;33m(\u001b[0m\u001b[1;33m)\u001b[0m\u001b[1;33m\u001b[0m\u001b[1;33m\u001b[0m\u001b[0m\n",
      "\u001b[1;32m~\\anaconda3\\envs\\3DQSAR\\lib\\site-packages\\tensorflow\\python\\eager\\def_function.py\u001b[0m in \u001b[0;36m_call\u001b[1;34m(self, *args, **kwds)\u001b[0m\n\u001b[0;32m    922\u001b[0m       \u001b[1;31m# In this case we have not created variables on the first call. So we can\u001b[0m\u001b[1;33m\u001b[0m\u001b[1;33m\u001b[0m\u001b[1;33m\u001b[0m\u001b[0m\n\u001b[0;32m    923\u001b[0m       \u001b[1;31m# run the first trace but we should fail if variables are created.\u001b[0m\u001b[1;33m\u001b[0m\u001b[1;33m\u001b[0m\u001b[1;33m\u001b[0m\u001b[0m\n\u001b[1;32m--> 924\u001b[1;33m       \u001b[0mresults\u001b[0m \u001b[1;33m=\u001b[0m \u001b[0mself\u001b[0m\u001b[1;33m.\u001b[0m\u001b[0m_stateful_fn\u001b[0m\u001b[1;33m(\u001b[0m\u001b[1;33m*\u001b[0m\u001b[0margs\u001b[0m\u001b[1;33m,\u001b[0m \u001b[1;33m**\u001b[0m\u001b[0mkwds\u001b[0m\u001b[1;33m)\u001b[0m\u001b[1;33m\u001b[0m\u001b[1;33m\u001b[0m\u001b[0m\n\u001b[0m\u001b[0;32m    925\u001b[0m       \u001b[1;32mif\u001b[0m \u001b[0mself\u001b[0m\u001b[1;33m.\u001b[0m\u001b[0m_created_variables\u001b[0m\u001b[1;33m:\u001b[0m\u001b[1;33m\u001b[0m\u001b[1;33m\u001b[0m\u001b[0m\n\u001b[0;32m    926\u001b[0m         raise ValueError(\"Creating variables on a non-first call to a function\"\n",
      "\u001b[1;32m~\\anaconda3\\envs\\3DQSAR\\lib\\site-packages\\tensorflow\\python\\eager\\function.py\u001b[0m in \u001b[0;36m__call__\u001b[1;34m(self, *args, **kwargs)\u001b[0m\n\u001b[0;32m   3021\u001b[0m       (graph_function,\n\u001b[0;32m   3022\u001b[0m        filtered_flat_args) = self._maybe_define_function(args, kwargs)\n\u001b[1;32m-> 3023\u001b[1;33m     return graph_function._call_flat(\n\u001b[0m\u001b[0;32m   3024\u001b[0m         filtered_flat_args, captured_inputs=graph_function.captured_inputs)  # pylint: disable=protected-access\n\u001b[0;32m   3025\u001b[0m \u001b[1;33m\u001b[0m\u001b[0m\n",
      "\u001b[1;32m~\\anaconda3\\envs\\3DQSAR\\lib\\site-packages\\tensorflow\\python\\eager\\function.py\u001b[0m in \u001b[0;36m_call_flat\u001b[1;34m(self, args, captured_inputs, cancellation_manager)\u001b[0m\n\u001b[0;32m   1958\u001b[0m         and executing_eagerly):\n\u001b[0;32m   1959\u001b[0m       \u001b[1;31m# No tape is watching; skip to running the function.\u001b[0m\u001b[1;33m\u001b[0m\u001b[1;33m\u001b[0m\u001b[1;33m\u001b[0m\u001b[0m\n\u001b[1;32m-> 1960\u001b[1;33m       return self._build_call_outputs(self._inference_function.call(\n\u001b[0m\u001b[0;32m   1961\u001b[0m           ctx, args, cancellation_manager=cancellation_manager))\n\u001b[0;32m   1962\u001b[0m     forward_backward = self._select_forward_and_backward_functions(\n",
      "\u001b[1;32m~\\anaconda3\\envs\\3DQSAR\\lib\\site-packages\\tensorflow\\python\\eager\\function.py\u001b[0m in \u001b[0;36mcall\u001b[1;34m(self, ctx, args, cancellation_manager)\u001b[0m\n\u001b[0;32m    589\u001b[0m       \u001b[1;32mwith\u001b[0m \u001b[0m_InterpolateFunctionError\u001b[0m\u001b[1;33m(\u001b[0m\u001b[0mself\u001b[0m\u001b[1;33m)\u001b[0m\u001b[1;33m:\u001b[0m\u001b[1;33m\u001b[0m\u001b[1;33m\u001b[0m\u001b[0m\n\u001b[0;32m    590\u001b[0m         \u001b[1;32mif\u001b[0m \u001b[0mcancellation_manager\u001b[0m \u001b[1;32mis\u001b[0m \u001b[1;32mNone\u001b[0m\u001b[1;33m:\u001b[0m\u001b[1;33m\u001b[0m\u001b[1;33m\u001b[0m\u001b[0m\n\u001b[1;32m--> 591\u001b[1;33m           outputs = execute.execute(\n\u001b[0m\u001b[0;32m    592\u001b[0m               \u001b[0mstr\u001b[0m\u001b[1;33m(\u001b[0m\u001b[0mself\u001b[0m\u001b[1;33m.\u001b[0m\u001b[0msignature\u001b[0m\u001b[1;33m.\u001b[0m\u001b[0mname\u001b[0m\u001b[1;33m)\u001b[0m\u001b[1;33m,\u001b[0m\u001b[1;33m\u001b[0m\u001b[1;33m\u001b[0m\u001b[0m\n\u001b[0;32m    593\u001b[0m               \u001b[0mnum_outputs\u001b[0m\u001b[1;33m=\u001b[0m\u001b[0mself\u001b[0m\u001b[1;33m.\u001b[0m\u001b[0m_num_outputs\u001b[0m\u001b[1;33m,\u001b[0m\u001b[1;33m\u001b[0m\u001b[1;33m\u001b[0m\u001b[0m\n",
      "\u001b[1;32m~\\anaconda3\\envs\\3DQSAR\\lib\\site-packages\\tensorflow\\python\\eager\\execute.py\u001b[0m in \u001b[0;36mquick_execute\u001b[1;34m(op_name, num_outputs, inputs, attrs, ctx, name)\u001b[0m\n\u001b[0;32m     57\u001b[0m   \u001b[1;32mtry\u001b[0m\u001b[1;33m:\u001b[0m\u001b[1;33m\u001b[0m\u001b[1;33m\u001b[0m\u001b[0m\n\u001b[0;32m     58\u001b[0m     \u001b[0mctx\u001b[0m\u001b[1;33m.\u001b[0m\u001b[0mensure_initialized\u001b[0m\u001b[1;33m(\u001b[0m\u001b[1;33m)\u001b[0m\u001b[1;33m\u001b[0m\u001b[1;33m\u001b[0m\u001b[0m\n\u001b[1;32m---> 59\u001b[1;33m     tensors = pywrap_tfe.TFE_Py_Execute(ctx._handle, device_name, op_name,\n\u001b[0m\u001b[0;32m     60\u001b[0m                                         inputs, attrs, num_outputs)\n\u001b[0;32m     61\u001b[0m   \u001b[1;32mexcept\u001b[0m \u001b[0mcore\u001b[0m\u001b[1;33m.\u001b[0m\u001b[0m_NotOkStatusException\u001b[0m \u001b[1;32mas\u001b[0m \u001b[0me\u001b[0m\u001b[1;33m:\u001b[0m\u001b[1;33m\u001b[0m\u001b[1;33m\u001b[0m\u001b[0m\n",
      "\u001b[1;31mKeyboardInterrupt\u001b[0m: "
     ]
    }
   ],
   "source": [
    "##Train \n",
    "##monitor early stopping using val_acc\n",
    "#Set min_delta to 1e-3\n",
    "monitor = EarlyStopping(monitor='val_loss',\n",
    "                        min_delta=0,\n",
    "                        patience=15,\n",
    "                        verbose=1, \n",
    "                        mode='auto',\n",
    "                        restore_best_weights=True)\n",
    "\n",
    "CNN.fit([X_1_train, X_2_train],\n",
    "        Y_train,\n",
    "        batch_size=64,\n",
    "        epochs=200, \n",
    "        validation_data=([X_1_val, X_2_val],\n",
    "                          Y_val),\n",
    "                          callbacks=[monitor])"
   ]
  },
  {
   "cell_type": "code",
   "execution_count": null,
   "metadata": {},
   "outputs": [],
   "source": [
    "##Test model w/ best weights on validation data\n",
    "model_loss = CNN.evaluate([X_1_test,X_2_test], Y_test)\n",
    "print(f\"Model loss:{model_loss}\")\n"
   ]
  },
  {
   "cell_type": "code",
   "execution_count": null,
   "metadata": {},
   "outputs": [],
   "source": []
  }
 ],
 "metadata": {
  "kernelspec": {
   "display_name": "Python 3",
   "language": "python",
   "name": "python3"
  },
  "language_info": {
   "codemirror_mode": {
    "name": "ipython",
    "version": 3
   },
   "file_extension": ".py",
   "mimetype": "text/x-python",
   "name": "python",
   "nbconvert_exporter": "python",
   "pygments_lexer": "ipython3",
   "version": "3.9.5"
  }
 },
 "nbformat": 4,
 "nbformat_minor": 4
}
