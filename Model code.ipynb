{
 "cells": [
  {
   "cell_type": "code",
   "execution_count": 1,
   "metadata": {},
   "outputs": [],
   "source": [
    "import tensorflow as tf\n",
    "from tensorflow.keras.preprocessing.image import ImageDataGenerator\n",
    "from tensorflow.keras.models import Sequential, Model\n",
    "from tensorflow.keras.layers import Conv2D, MaxPooling3D\n",
    "from tensorflow.keras.callbacks import EarlyStopping\n",
    "from tensorflow.keras.models import load_model\n",
    "from tensorflow.keras.layers import BatchNormalization,Flatten,\\\n",
    "Add,Input,Dense, Dropout, Activation, InputLayer\n",
    "from tensorflow.keras.optimizers import Adam\n",
    "\n",
    "\n",
    "\n",
    "from augmentation_code import data_augmentation\n",
    "import numpy as np\n",
    "import cv2\n",
    "import matplotlib.pyplot as plt\n",
    "%matplotlib inline\n",
    "import pandas as pd\n",
    "import os "
   ]
  },
  {
   "cell_type": "code",
   "execution_count": 2,
   "metadata": {},
   "outputs": [],
   "source": [
    "def set_globals():\n",
    "    global open3D_directory\n",
    "    global dataset_name_num\n",
    "    global MIF_nodes \n",
    "    global xyz_offset\n",
    "    open3D_directory = \"C:\\open3dtools\"\n",
    "    dataset_name_num = \"06.DHFR\"\n",
    "    MIF_nodes = [23,27,21]\n",
    "    xyz_offset = [-11,-10,-9]\n",
    "set_globals()"
   ]
  },
  {
   "cell_type": "code",
   "execution_count": 3,
   "metadata": {},
   "outputs": [],
   "source": [
    "def import_data():\n",
    "    path = os.path.join(r\"C:\\Users\\Linden\\GitHub\\3DQSAR\\data\\LabelledData\",dataset_name_num)\n",
    "    labels = pd.read_csv(os.path.join(path,\"pIC50.CSV\"))\n",
    "    Y = labels[\"Y\"].to_numpy()\n",
    "\n",
    "    data=[]\n",
    "\n",
    "    for entry in os.scandir(path):\n",
    "        if (entry.path.endswith(\".npy\")):\n",
    "            file = np.load(entry.path)\n",
    "            data.append(file)\n",
    "    field_1 = data[0::2]\n",
    "    field_2 = data[1::2]\n",
    "    X_1 = np.stack(field_1,0)\n",
    "    X_2 = np.stack(field_2,0)    \n",
    "    \n",
    "    return X_1, X_2, Y"
   ]
  },
  {
   "cell_type": "code",
   "execution_count": 17,
   "metadata": {},
   "outputs": [],
   "source": [
    "X_1, X_2, Y = import_data()"
   ]
  },
  {
   "cell_type": "code",
   "execution_count": 18,
   "metadata": {},
   "outputs": [],
   "source": [
    "####Augment and extend data\n",
    "# X_1, X_2, Y = data_augmentation(X_1,X_2,Y,augment_repetitions=2)"
   ]
  },
  {
   "cell_type": "code",
   "execution_count": 19,
   "metadata": {},
   "outputs": [],
   "source": [
    "###Pickle data"
   ]
  },
  {
   "cell_type": "code",
   "execution_count": 20,
   "metadata": {},
   "outputs": [],
   "source": [
    "###Normalise image data \n",
    "###Normalise by amax value?"
   ]
  },
  {
   "cell_type": "code",
   "execution_count": 21,
   "metadata": {},
   "outputs": [
    {
     "data": {
      "text/plain": [
       "(306, 25, 24, 26)"
      ]
     },
     "execution_count": 21,
     "metadata": {},
     "output_type": "execute_result"
    }
   ],
   "source": [
    "X_1.shape"
   ]
  },
  {
   "cell_type": "code",
   "execution_count": 22,
   "metadata": {},
   "outputs": [],
   "source": [
    "###Reshape\n",
    "X_1 = np.reshape(X_1,(X_1.shape[0],X_1.shape[1],X_1.shape[2],X_1.shape[3],1))\n",
    "X_2 = np.reshape(X_2,(X_2.shape[0],X_2.shape[1],X_2.shape[2],X_2.shape[3],1))"
   ]
  },
  {
   "cell_type": "code",
   "execution_count": 23,
   "metadata": {},
   "outputs": [],
   "source": [
    "###Shuffle\n",
    "permutation = np.random.RandomState(seed=42)\\\n",
    "                .permutation(X_1.shape[0])\n",
    "\n",
    "X_1 = X_1[permutation]\n",
    "X_2 = X_2[permutation]\n",
    "Y = Y[permutation]"
   ]
  },
  {
   "cell_type": "code",
   "execution_count": 24,
   "metadata": {},
   "outputs": [],
   "source": [
    "####Train test split\n",
    "train_upper = int(np.around(X_1.shape[0]*0.9,0))\n",
    "\n",
    "X_1_train = X_1[:train_upper]\n",
    "X_2_train = X_2[:train_upper]\n",
    "X_1_test = X_1[train_upper:]\n",
    "X_2_test = X_2[train_upper:]\n",
    "\n",
    "Y_train = Y[:train_upper]\n",
    "Y_test = Y[train_upper:]"
   ]
  },
  {
   "cell_type": "code",
   "execution_count": 25,
   "metadata": {},
   "outputs": [],
   "source": [
    "###Train validation split\n",
    "train_upper = int(np.around(X_1_train.shape[0]*0.8,0))\n",
    "X_1_val = X_1_train[train_upper:]\n",
    "X_2_val = X_2_train[train_upper:]\n",
    "X_1_train = X_1_train[:train_upper]\n",
    "X_2_train = X_2_train[:train_upper]\n",
    "\n",
    "Y_val = Y_train[train_upper:]\n",
    "Y_train = Y_train[:train_upper]\n"
   ]
  },
  {
   "cell_type": "code",
   "execution_count": 26,
   "metadata": {},
   "outputs": [],
   "source": [
    "def build_CNN():\n",
    "    model = Sequential(name='CNN')\n",
    "    \n",
    "    # elu=Exponential Linear Unit, similar to leaky Relu\n",
    "    #perhaps normalise in layer 1 \n",
    "    \n",
    "    # Convolution Layers\n",
    "    inputs = Input(shape=(X_1_train.shape[1], X_1_train.shape[2],X_1_train.shape[3],X_1_train.shape[4]))\n",
    "    model = MaxPooling3D(pool_size=(2,2,2))(inputs)\n",
    "    model = Conv2D(32, (2, 2), strides=(1, 1), activation='elu')(model)\n",
    "    model = MaxPooling3D(pool_size=(2,2,2))(model)\n",
    "    model = Conv2D(64, (2, 2), strides=(1, 1), activation='elu')(model)\n",
    "    model = MaxPooling3D(pool_size=(2,2,2))(model)\n",
    "    model = Conv2D(128, (2, 2), strides=(1, 1), activation='elu')(model)\n",
    "    \n",
    "\n",
    "    output = Flatten()(model)\n",
    "    model = Model(inputs=inputs, outputs=output)\n",
    "\n",
    "    return model\n"
   ]
  },
  {
   "cell_type": "code",
   "execution_count": 27,
   "metadata": {},
   "outputs": [],
   "source": [
    "def two_headed_network():\n",
    "    X_1_CNN = build_CNN()\n",
    "    X_2_CNN = build_CNN()\n",
    "    network = Add()([X_1_CNN.output,X_2_CNN.output])\n",
    "    network = Flatten()(network)\n",
    "    network = Dense(10,activation='elu')(network)\n",
    "    network = Dense(1,activation = 'linear')(network)\n",
    "    model = Model([X_1_CNN.input, X_2_CNN.input], network)\n",
    "    optimizer = Adam(learning_rate=1e-3)\n",
    "    model.compile(loss='mse', optimizer=optimizer, metrics=['accuracy'])\n",
    "    \n",
    "    return model  \n",
    "CNN = two_headed_network()"
   ]
  },
  {
   "cell_type": "code",
   "execution_count": 28,
   "metadata": {},
   "outputs": [
    {
     "name": "stdout",
     "output_type": "stream",
     "text": [
      "Epoch 1/200\n",
      "4/4 [==============================] - 4s 712ms/step - loss: 4212591616.0000 - accuracy: 0.0000e+00 - val_loss: 105837792.0000 - val_accuracy: 0.0000e+00\n",
      "Epoch 2/200\n",
      "4/4 [==============================] - 3s 617ms/step - loss: 383686848.0000 - accuracy: 0.0000e+00 - val_loss: 218417968.0000 - val_accuracy: 0.0000e+00\n",
      "Epoch 3/200\n",
      "4/4 [==============================] - 2s 602ms/step - loss: 321257920.0000 - accuracy: 0.0000e+00 - val_loss: 81249568.0000 - val_accuracy: 0.0000e+00\n",
      "Epoch 4/200\n",
      "4/4 [==============================] - 3s 613ms/step - loss: 71243160.0000 - accuracy: 0.0000e+00 - val_loss: 65688668.0000 - val_accuracy: 0.0000e+00\n",
      "Epoch 5/200\n",
      "4/4 [==============================] - 3s 648ms/step - loss: 189984416.0000 - accuracy: 0.0000e+00 - val_loss: 43697828.0000 - val_accuracy: 0.0000e+00\n",
      "Epoch 6/200\n",
      "4/4 [==============================] - 2s 599ms/step - loss: 50475768.0000 - accuracy: 0.0000e+00 - val_loss: 9155973.0000 - val_accuracy: 0.0000e+00\n",
      "Epoch 7/200\n",
      "4/4 [==============================] - 2s 584ms/step - loss: 41292864.0000 - accuracy: 0.0000e+00 - val_loss: 24628228.0000 - val_accuracy: 0.0000e+00\n",
      "Epoch 8/200\n",
      "4/4 [==============================] - 2s 601ms/step - loss: 68700112.0000 - accuracy: 0.0000e+00 - val_loss: 4857442.5000 - val_accuracy: 0.0000e+00\n",
      "Epoch 9/200\n",
      "4/4 [==============================] - 2s 613ms/step - loss: 9524033.0000 - accuracy: 0.0000e+00 - val_loss: 6937130.5000 - val_accuracy: 0.0000e+00\n",
      "Epoch 10/200\n",
      "4/4 [==============================] - 3s 646ms/step - loss: 26137088.0000 - accuracy: 0.0000e+00 - val_loss: 7475890.5000 - val_accuracy: 0.0000e+00\n",
      "Epoch 11/200\n",
      "4/4 [==============================] - 3s 635ms/step - loss: 8777239.0000 - accuracy: 0.0000e+00 - val_loss: 1647714.6250 - val_accuracy: 0.0000e+00\n",
      "Epoch 12/200\n",
      "4/4 [==============================] - 3s 632ms/step - loss: 15069949.0000 - accuracy: 0.0000e+00 - val_loss: 4647641.5000 - val_accuracy: 0.0000e+00\n",
      "Epoch 13/200\n",
      "4/4 [==============================] - 3s 655ms/step - loss: 14077433.0000 - accuracy: 0.0000e+00 - val_loss: 1068807.1250 - val_accuracy: 0.0000e+00\n",
      "Epoch 14/200\n",
      "4/4 [==============================] - 3s 623ms/step - loss: 4478564.0000 - accuracy: 0.0000e+00 - val_loss: 3234723.5000 - val_accuracy: 0.0000e+00\n",
      "Epoch 15/200\n",
      "4/4 [==============================] - 3s 601ms/step - loss: 7456603.5000 - accuracy: 0.0000e+00 - val_loss: 1319794.3750 - val_accuracy: 0.0000e+00\n",
      "Epoch 16/200\n",
      "4/4 [==============================] - 3s 606ms/step - loss: 2498723.5000 - accuracy: 0.0000e+00 - val_loss: 1434204.7500 - val_accuracy: 0.0000e+00\n",
      "Epoch 17/200\n",
      "4/4 [==============================] - 3s 691ms/step - loss: 2894475.0000 - accuracy: 0.0000e+00 - val_loss: 1189554.5000 - val_accuracy: 0.0000e+00\n",
      "Epoch 18/200\n",
      "4/4 [==============================] - 5s 1s/step - loss: 1365131.0000 - accuracy: 0.0000e+00 - val_loss: 1045995.5625 - val_accuracy: 0.0000e+00\n",
      "Epoch 19/200\n",
      "4/4 [==============================] - 3s 634ms/step - loss: 1594934.0000 - accuracy: 0.0000e+00 - val_loss: 1130085.0000 - val_accuracy: 0.0000e+00\n",
      "Epoch 20/200\n",
      "4/4 [==============================] - 3s 883ms/step - loss: 1714154.3750 - accuracy: 0.0000e+00 - val_loss: 981280.5625 - val_accuracy: 0.0000e+00\n",
      "Epoch 21/200\n",
      "4/4 [==============================] - 3s 605ms/step - loss: 1161826.7500 - accuracy: 0.0000e+00 - val_loss: 889540.3750 - val_accuracy: 0.0000e+00\n",
      "Epoch 22/200\n",
      "4/4 [==============================] - 3s 637ms/step - loss: 922634.6875 - accuracy: 0.0000e+00 - val_loss: 932326.6250 - val_accuracy: 0.0000e+00\n",
      "Epoch 23/200\n",
      "4/4 [==============================] - 3s 612ms/step - loss: 936243.8125 - accuracy: 0.0000e+00 - val_loss: 863163.8750 - val_accuracy: 0.0000e+00\n",
      "Epoch 24/200\n",
      "4/4 [==============================] - 3s 682ms/step - loss: 864125.1875 - accuracy: 0.0000e+00 - val_loss: 1211389.8750 - val_accuracy: 0.0000e+00\n",
      "Epoch 25/200\n",
      "4/4 [==============================] - 2s 602ms/step - loss: 2230864.2500 - accuracy: 0.0000e+00 - val_loss: 842884.7500 - val_accuracy: 0.0000e+00\n",
      "Epoch 26/200\n",
      "4/4 [==============================] - 3s 626ms/step - loss: 618246.7500 - accuracy: 0.0000e+00 - val_loss: 1123953.7500 - val_accuracy: 0.0000e+00\n",
      "Epoch 27/200\n",
      "4/4 [==============================] - 2s 593ms/step - loss: 1101456.7500 - accuracy: 0.0000e+00 - val_loss: 986483.3750 - val_accuracy: 0.0000e+00\n",
      "Epoch 28/200\n",
      "4/4 [==============================] - 2s 613ms/step - loss: 396935.2812 - accuracy: 0.0000e+00 - val_loss: 1063416.6250 - val_accuracy: 0.0000e+00\n",
      "Epoch 29/200\n",
      "4/4 [==============================] - 2s 583ms/step - loss: 486889.3125 - accuracy: 0.0000e+00 - val_loss: 1066391.7500 - val_accuracy: 0.0000e+00\n",
      "Epoch 30/200\n",
      "4/4 [==============================] - 2s 605ms/step - loss: 403718.4688 - accuracy: 0.0000e+00 - val_loss: 941798.8125 - val_accuracy: 0.0000e+00\n",
      "Epoch 31/200\n",
      "4/4 [==============================] - 3s 728ms/step - loss: 413303.5938 - accuracy: 0.0000e+00 - val_loss: 873260.7500 - val_accuracy: 0.0000e+00\n",
      "Epoch 32/200\n",
      "4/4 [==============================] - 3s 691ms/step - loss: 336692.9375 - accuracy: 0.0000e+00 - val_loss: 807869.6250 - val_accuracy: 0.0000e+00\n",
      "Epoch 33/200\n",
      "4/4 [==============================] - 3s 623ms/step - loss: 293575.2500 - accuracy: 0.0000e+00 - val_loss: 743740.6250 - val_accuracy: 0.0000e+00\n",
      "Epoch 34/200\n",
      "4/4 [==============================] - 2s 605ms/step - loss: 319204.5938 - accuracy: 0.0000e+00 - val_loss: 751008.7500 - val_accuracy: 0.0000e+00\n",
      "Epoch 35/200\n",
      "4/4 [==============================] - 3s 620ms/step - loss: 333289.7188 - accuracy: 0.0000e+00 - val_loss: 886564.5625 - val_accuracy: 0.0000e+00\n",
      "Epoch 36/200\n",
      "4/4 [==============================] - 3s 619ms/step - loss: 395548.0938 - accuracy: 0.0000e+00 - val_loss: 790706.5000 - val_accuracy: 0.0000e+00\n",
      "Epoch 37/200\n",
      "4/4 [==============================] - 3s 624ms/step - loss: 171269.0938 - accuracy: 0.0000e+00 - val_loss: 822980.3750 - val_accuracy: 0.0000e+00\n",
      "Epoch 38/200\n",
      "4/4 [==============================] - 3s 631ms/step - loss: 351423.2500 - accuracy: 0.0000e+00 - val_loss: 863246.9375 - val_accuracy: 0.0000e+00\n",
      "Epoch 39/200\n",
      "4/4 [==============================] - 3s 662ms/step - loss: 428479.6875 - accuracy: 0.0000e+00 - val_loss: 1070928.8750 - val_accuracy: 0.0000e+00\n",
      "Epoch 40/200\n",
      "4/4 [==============================] - 4s 1s/step - loss: 334462.9062 - accuracy: 0.0000e+00 - val_loss: 778313.9375 - val_accuracy: 0.0000e+00\n",
      "Epoch 41/200\n",
      "4/4 [==============================] - 3s 643ms/step - loss: 461198.4688 - accuracy: 0.0000e+00 - val_loss: 776002.0625 - val_accuracy: 0.0000e+00\n",
      "Epoch 42/200\n",
      "4/4 [==============================] - 3s 695ms/step - loss: 262317.9688 - accuracy: 0.0000e+00 - val_loss: 939325.4375 - val_accuracy: 0.0000e+00\n",
      "Epoch 43/200\n",
      "4/4 [==============================] - 3s 824ms/step - loss: 484540.7188 - accuracy: 0.0000e+00 - val_loss: 770860.8125 - val_accuracy: 0.0000e+00\n",
      "Epoch 44/200\n",
      "4/4 [==============================] - 3s 706ms/step - loss: 185608.2969 - accuracy: 0.0000e+00 - val_loss: 683563.0000 - val_accuracy: 0.0000e+00\n",
      "Epoch 45/200\n",
      "4/4 [==============================] - 3s 639ms/step - loss: 346202.1562 - accuracy: 0.0000e+00 - val_loss: 806587.8125 - val_accuracy: 0.0000e+00\n",
      "Epoch 46/200\n",
      "4/4 [==============================] - 3s 644ms/step - loss: 264072.4688 - accuracy: 0.0000e+00 - val_loss: 759250.1875 - val_accuracy: 0.0000e+00\n",
      "Epoch 47/200\n",
      "4/4 [==============================] - 3s 641ms/step - loss: 117419.6875 - accuracy: 0.0000e+00 - val_loss: 818827.1875 - val_accuracy: 0.0000e+00\n",
      "Epoch 48/200\n",
      "4/4 [==============================] - 3s 715ms/step - loss: 510474.6250 - accuracy: 0.0000e+00 - val_loss: 768789.3125 - val_accuracy: 0.0000e+00\n",
      "Epoch 49/200\n",
      "4/4 [==============================] - 4s 949ms/step - loss: 304393.7812 - accuracy: 0.0000e+00 - val_loss: 1230048.7500 - val_accuracy: 0.0000e+00\n",
      "Epoch 50/200\n",
      "4/4 [==============================] - 3s 858ms/step - loss: 484652.5312 - accuracy: 0.0000e+00 - val_loss: 773243.4375 - val_accuracy: 0.0000e+00\n",
      "Epoch 51/200\n",
      "4/4 [==============================] - 3s 706ms/step - loss: 251966.8906 - accuracy: 0.0000e+00 - val_loss: 733612.8125 - val_accuracy: 0.0000e+00\n"
     ]
    },
    {
     "name": "stdout",
     "output_type": "stream",
     "text": [
      "Epoch 52/200\n",
      "4/4 [==============================] - 3s 688ms/step - loss: 155243.6875 - accuracy: 0.0000e+00 - val_loss: 824990.6250 - val_accuracy: 0.0000e+00\n",
      "Epoch 53/200\n",
      "4/4 [==============================] - 3s 826ms/step - loss: 141667.6719 - accuracy: 0.0000e+00 - val_loss: 692430.0625 - val_accuracy: 0.0000e+00\n",
      "Epoch 54/200\n",
      "4/4 [==============================] - 3s 699ms/step - loss: 89971.2344 - accuracy: 0.0000e+00 - val_loss: 647703.0000 - val_accuracy: 0.0000e+00\n",
      "Epoch 55/200\n",
      "4/4 [==============================] - 3s 703ms/step - loss: 103450.0078 - accuracy: 0.0000e+00 - val_loss: 727663.1875 - val_accuracy: 0.0000e+00\n",
      "Epoch 56/200\n",
      "4/4 [==============================] - 3s 762ms/step - loss: 83859.8438 - accuracy: 0.0000e+00 - val_loss: 674203.5000 - val_accuracy: 0.0000e+00\n",
      "Epoch 57/200\n",
      "4/4 [==============================] - 3s 811ms/step - loss: 79098.8203 - accuracy: 0.0000e+00 - val_loss: 697929.8125 - val_accuracy: 0.0000e+00\n",
      "Epoch 58/200\n",
      "4/4 [==============================] - 3s 646ms/step - loss: 75775.0156 - accuracy: 0.0000e+00 - val_loss: 784914.1250 - val_accuracy: 0.0000e+00\n",
      "Epoch 59/200\n",
      "4/4 [==============================] - 5s 1s/step - loss: 66849.4844 - accuracy: 0.0000e+00 - val_loss: 732403.4375 - val_accuracy: 0.0000e+00\n",
      "Epoch 60/200\n",
      "4/4 [==============================] - 4s 805ms/step - loss: 64412.6289 - accuracy: 0.0000e+00 - val_loss: 717674.2500 - val_accuracy: 0.0000e+00\n",
      "Epoch 61/200\n",
      "4/4 [==============================] - 3s 671ms/step - loss: 61024.0820 - accuracy: 0.0000e+00 - val_loss: 726917.6875 - val_accuracy: 0.0000e+00\n",
      "Epoch 62/200\n",
      "4/4 [==============================] - 3s 730ms/step - loss: 59759.9141 - accuracy: 0.0000e+00 - val_loss: 665407.1250 - val_accuracy: 0.0000e+00\n",
      "Epoch 63/200\n",
      "4/4 [==============================] - 3s 798ms/step - loss: 49072.1094 - accuracy: 0.0000e+00 - val_loss: 657491.6250 - val_accuracy: 0.0000e+00\n",
      "Epoch 64/200\n",
      "4/4 [==============================] - 3s 666ms/step - loss: 53269.6094 - accuracy: 0.0000e+00 - val_loss: 670448.6250 - val_accuracy: 0.0000e+00\n",
      "Epoch 65/200\n",
      "4/4 [==============================] - 2s 572ms/step - loss: 52497.8945 - accuracy: 0.0000e+00 - val_loss: 691217.6875 - val_accuracy: 0.0000e+00\n",
      "Epoch 66/200\n",
      "4/4 [==============================] - 3s 652ms/step - loss: 48021.5625 - accuracy: 0.0000e+00 - val_loss: 703582.1250 - val_accuracy: 0.0000e+00\n",
      "Epoch 67/200\n",
      "4/4 [==============================] - 3s 609ms/step - loss: 50514.8945 - accuracy: 0.0000e+00 - val_loss: 711667.5000 - val_accuracy: 0.0000e+00\n",
      "Epoch 68/200\n",
      "4/4 [==============================] - 3s 711ms/step - loss: 42230.4883 - accuracy: 0.0000e+00 - val_loss: 733079.6875 - val_accuracy: 0.0000e+00\n",
      "Epoch 69/200\n",
      "4/4 [==============================] - 3s 725ms/step - loss: 50770.1172 - accuracy: 0.0000e+00 - val_loss: 674243.9375 - val_accuracy: 0.0000e+00\n",
      "Restoring model weights from the end of the best epoch.\n",
      "Epoch 00069: early stopping\n"
     ]
    },
    {
     "data": {
      "text/plain": [
       "<tensorflow.python.keras.callbacks.History at 0x2215d406700>"
      ]
     },
     "execution_count": 28,
     "metadata": {},
     "output_type": "execute_result"
    }
   ],
   "source": [
    "##Train \n",
    "##monitor early stopping using val_acc\n",
    "#Set min_delta to 1e-3\n",
    "monitor = EarlyStopping(monitor='val_loss',\n",
    "                        min_delta=0,\n",
    "                        patience=15,\n",
    "                        verbose=1, \n",
    "                        mode='auto',\n",
    "                        restore_best_weights=True)\n",
    "\n",
    "CNN.fit([X_1_train, X_2_train],\n",
    "        Y_train,\n",
    "        batch_size=64,\n",
    "        epochs=200, \n",
    "        validation_data=([X_1_val, X_2_val],\n",
    "                          Y_val),\n",
    "                          callbacks=[monitor])\n"
   ]
  },
  {
   "cell_type": "code",
   "execution_count": null,
   "metadata": {},
   "outputs": [],
   "source": [
    "##Test model w/ best weights on validation data\n",
    "model_loss = CNN.evaluate([X_1_test,X_2_test], Y_test)\n",
    "print(f\"Model loss:{model_loss}\")\n"
   ]
  },
  {
   "cell_type": "code",
   "execution_count": null,
   "metadata": {},
   "outputs": [],
   "source": []
  }
 ],
 "metadata": {
  "kernelspec": {
   "display_name": "Python 3",
   "language": "python",
   "name": "python3"
  },
  "language_info": {
   "codemirror_mode": {
    "name": "ipython",
    "version": 3
   },
   "file_extension": ".py",
   "mimetype": "text/x-python",
   "name": "python",
   "nbconvert_exporter": "python",
   "pygments_lexer": "ipython3",
   "version": "3.9.5"
  }
 },
 "nbformat": 4,
 "nbformat_minor": 4
}
