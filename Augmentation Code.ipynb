{
 "cells": [
  {
   "cell_type": "code",
   "execution_count": 11,
   "id": "6781fa5d",
   "metadata": {},
   "outputs": [],
   "source": [
    "import tensorflow as tf\n",
    "import numpy as np\n",
    "import pandas as pd\n",
    "from tensorflow.keras.preprocessing.image import ImageDataGenerator\n",
    "# import tensorflow.keras "
   ]
  },
  {
   "cell_type": "code",
   "execution_count": 16,
   "id": "ae15baf2",
   "metadata": {},
   "outputs": [],
   "source": [
    "data = np.random.randint(0,10,size=(1,60,60,60))"
   ]
  },
  {
   "cell_type": "code",
   "execution_count": 14,
   "id": "aba1fb4f",
   "metadata": {},
   "outputs": [],
   "source": [
    "image=data[0]"
   ]
  },
  {
   "cell_type": "code",
   "execution_count": 2,
   "id": "e1fe5ae1",
   "metadata": {},
   "outputs": [
    {
     "name": "stdout",
     "output_type": "stream",
     "text": [
      "hi\n"
     ]
    }
   ],
   "source": [
    "# some imports and functions here\n",
    "\n",
    "def main():\n",
    "    # do some stuff\n",
    "    print('hi')\n",
    "    pass\n",
    "\n",
    "if __name__ == '__main__':\n",
    "    from multiprocessing import freeze_support\n",
    "    freeze_support()\n",
    "    main()"
   ]
  },
  {
   "cell_type": "code",
   "execution_count": null,
   "id": "e125bfcd",
   "metadata": {},
   "outputs": [],
   "source": [
    "np.reshape(image,)"
   ]
  }
 ],
 "metadata": {
  "kernelspec": {
   "display_name": "Python 3",
   "language": "python",
   "name": "python3"
  },
  "language_info": {
   "codemirror_mode": {
    "name": "ipython",
    "version": 3
   },
   "file_extension": ".py",
   "mimetype": "text/x-python",
   "name": "python",
   "nbconvert_exporter": "python",
   "pygments_lexer": "ipython3",
   "version": "3.9.5"
  }
 },
 "nbformat": 4,
 "nbformat_minor": 5
}
