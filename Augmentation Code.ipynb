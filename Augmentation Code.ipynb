{
 "cells": [
  {
   "cell_type": "code",
   "execution_count": 11,
   "id": "6781fa5d",
   "metadata": {},
   "outputs": [],
   "source": [
    "import tensorflow as tf\n",
    "import numpy as np\n",
    "import pandas as pd\n",
    "from tensorflow.keras.preprocessing.image import ImageDataGenerator\n",
    "# import tensorflow.keras "
   ]
  },
  {
   "cell_type": "code",
   "execution_count": 16,
   "id": "ae15baf2",
   "metadata": {},
   "outputs": [],
   "source": [
    "data = np.random.randint(0,10,size=(1,60,60,60))"
   ]
  },
  {
   "cell_type": "code",
   "execution_count": 14,
   "id": "aba1fb4f",
   "metadata": {},
   "outputs": [],
   "source": [
    "image=data[0]"
   ]
  },
  {
   "cell_type": "code",
   "execution_count": 17,
   "id": "e1fe5ae1",
   "metadata": {},
   "outputs": [
    {
     "name": "stderr",
     "output_type": "stream",
     "text": [
      "C:\\Users\\Linden\\anaconda3\\envs\\3DQSAR\\lib\\site-packages\\keras_preprocessing\\image\\numpy_array_iterator.py:129: UserWarning: NumpyArrayIterator is set to use the data format convention \"channels_last\" (channels on axis 3), i.e. expected either 1, 3, or 4 channels on axis 3. However, it was passed an array with shape (1, 60, 60, 60) (60 channels).\n",
      "  warnings.warn('NumpyArrayIterator is set to use the '\n"
     ]
    }
   ],
   "source": [
    "numberOfImagesToKeep=20\n",
    "image_generator = ImageDataGenerator(width_shift_range=0.2,brightness_range=(0.3,0.7),zoom_range = 0.1,rotation_range=0.3,horizontal_flip=True, vertical_flip=True, fill_mode='nearest')\n",
    "data_gen =  image_generator.flow(data, batch_size=1)\n",
    "\n",
    "# def plotImages(images_arr,numberOfImages):\n",
    "#     fig, axes = plt.subplots(1, numberOfImages, figsize=(20, 20))\n",
    "#     axes = axes.flatten()\n",
    "#     for img, ax in zip( images_arr, axes):\n",
    "#         ax.imshow(np.squeeze(img))\n",
    "#         ax.axis('off')\n",
    "#     plt.tight_layout()\n",
    "#     plt.show()\n",
    "\n",
    "# numberOfImagesToPlot = 20\n",
    "\n",
    "# augmented_images = [data_gen[0][0] for i in range(numberOfImagesToPlot)]\n",
    "\n",
    "# plotImages(augmented_images,numberOfImagesToPlot)\n",
    "\n",
    "# #numberOfImagesToKeep = 200\n",
    "# augmented_images = [data_gen[0][0] for i in range(numberOfImagesToKeep)]\n"
   ]
  },
  {
   "cell_type": "code",
   "execution_count": null,
   "id": "e125bfcd",
   "metadata": {},
   "outputs": [],
   "source": [
    "np.reshape(image,)"
   ]
  }
 ],
 "metadata": {
  "kernelspec": {
   "display_name": "Python 3",
   "language": "python",
   "name": "python3"
  },
  "language_info": {
   "codemirror_mode": {
    "name": "ipython",
    "version": 3
   },
   "file_extension": ".py",
   "mimetype": "text/x-python",
   "name": "python",
   "nbconvert_exporter": "python",
   "pygments_lexer": "ipython3",
   "version": "3.9.5"
  }
 },
 "nbformat": 4,
 "nbformat_minor": 5
}
