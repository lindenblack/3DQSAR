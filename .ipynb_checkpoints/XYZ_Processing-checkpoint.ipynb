{
 "cells": [
  {
   "cell_type": "code",
   "execution_count": null,
   "id": "b316ae30",
   "metadata": {},
   "outputs": [],
   "source": [
    "\"\"\"\n",
    "Code to process the XYZ file produced by open3dqsar into pandas\n",
    "The ASCII did not have grid coords only the energy values\n",
    "The param for the format keyword in export is 'XYZ'\n",
    "Run this code and specify the file name in the fin line\n",
    "Last few cells are the beginnings of a function to process the entire directory\n",
    "\n",
    "\"\"\""
   ]
  },
  {
   "cell_type": "code",
   "execution_count": 39,
   "id": "a951a036",
   "metadata": {},
   "outputs": [],
   "source": [
    "import os\n",
    "import sys\n",
    "import pandas as pd\n",
    "import numpy as  np"
   ]
  },
  {
   "cell_type": "code",
   "execution_count": 36,
   "id": "76bd6456",
   "metadata": {},
   "outputs": [],
   "source": [
    "fin = open(r\"C:\\open3dtools\\testexport2_fld-02_obj-01.AGRD\", \"rt\")\n",
    "fout = open(\"out.txt\", \"wt\")\n",
    "\n",
    "for line in fin:\n",
    "    fout.write(' '.join(line.split()))\n",
    "    fout.write(\"\\n\")\n",
    "\n",
    "fin.close()\n",
    "fout.close()\n",
    "data = pd.read_csv(\"out.txt\",skiprows=5,header=None,sep=\" \")"
   ]
  },
  {
   "cell_type": "code",
   "execution_count": 49,
   "id": "107303b0",
   "metadata": {
    "scrolled": true
   },
   "outputs": [
    {
     "data": {
      "text/html": [
       "<div>\n",
       "<style scoped>\n",
       "    .dataframe tbody tr th:only-of-type {\n",
       "        vertical-align: middle;\n",
       "    }\n",
       "\n",
       "    .dataframe tbody tr th {\n",
       "        vertical-align: top;\n",
       "    }\n",
       "\n",
       "    .dataframe thead th {\n",
       "        text-align: right;\n",
       "    }\n",
       "</style>\n",
       "<table border=\"1\" class=\"dataframe\">\n",
       "  <thead>\n",
       "    <tr style=\"text-align: right;\">\n",
       "      <th></th>\n",
       "      <th>0</th>\n",
       "      <th>1</th>\n",
       "      <th>2</th>\n",
       "      <th>3</th>\n",
       "    </tr>\n",
       "  </thead>\n",
       "  <tbody>\n",
       "    <tr>\n",
       "      <th>0</th>\n",
       "      <td>-10.0</td>\n",
       "      <td>-18.0</td>\n",
       "      <td>-13.0</td>\n",
       "      <td>-0.214514</td>\n",
       "    </tr>\n",
       "    <tr>\n",
       "      <th>1</th>\n",
       "      <td>-9.0</td>\n",
       "      <td>-18.0</td>\n",
       "      <td>-13.0</td>\n",
       "      <td>-0.209281</td>\n",
       "    </tr>\n",
       "    <tr>\n",
       "      <th>2</th>\n",
       "      <td>-8.0</td>\n",
       "      <td>-18.0</td>\n",
       "      <td>-13.0</td>\n",
       "      <td>-0.201835</td>\n",
       "    </tr>\n",
       "    <tr>\n",
       "      <th>3</th>\n",
       "      <td>-7.0</td>\n",
       "      <td>-18.0</td>\n",
       "      <td>-13.0</td>\n",
       "      <td>-0.191849</td>\n",
       "    </tr>\n",
       "    <tr>\n",
       "      <th>4</th>\n",
       "      <td>-6.0</td>\n",
       "      <td>-18.0</td>\n",
       "      <td>-13.0</td>\n",
       "      <td>-0.179004</td>\n",
       "    </tr>\n",
       "  </tbody>\n",
       "</table>\n",
       "</div>"
      ],
      "text/plain": [
       "      0     1     2         3\n",
       "0 -10.0 -18.0 -13.0 -0.214514\n",
       "1  -9.0 -18.0 -13.0 -0.209281\n",
       "2  -8.0 -18.0 -13.0 -0.201835\n",
       "3  -7.0 -18.0 -13.0 -0.191849\n",
       "4  -6.0 -18.0 -13.0 -0.179004"
      ]
     },
     "execution_count": 49,
     "metadata": {},
     "output_type": "execute_result"
    }
   ],
   "source": [
    "data.head()"
   ]
  },
  {
   "cell_type": "code",
   "execution_count": 38,
   "id": "d1b02afb",
   "metadata": {
    "scrolled": true
   },
   "outputs": [
    {
     "data": {
      "text/plain": [
       "20150"
      ]
     },
     "execution_count": 38,
     "metadata": {},
     "output_type": "execute_result"
    }
   ],
   "source": [
    "# # Directory\n",
    "# directory = \"CleanedData\"\n",
    "  \n",
    "# # Parent Directory path\n",
    "# read_dir = \n",
    "# write_dir = \n",
    "# parent_dir = \"/home/User/Documents\"\n",
    "  \n",
    "# # Path\n",
    "# path = os.path.join(parent_dir, directory)\n",
    "  \n",
    "# # Create the directory\n",
    "# # 'GeeksForGeeks' in\n",
    "# # '/home / User / Documents'\n",
    "# os.mkdir(path)\n",
    "# print(\"Directory '%s' created\" %directory)"
   ]
  },
  {
   "cell_type": "code",
   "execution_count": 48,
   "id": "834efe36",
   "metadata": {},
   "outputs": [],
   "source": [
    "# def process_dataset():\n",
    "#     import os\n",
    "#     directory = r\"C:\\open3dtools\"\n",
    "#     for entry in os.scandir(directory):\n",
    "#         if (entry.path.endswith(\".AGRD\")):\n",
    "#             print(entry.path)\n",
    "# process_dataset()"
   ]
  },
  {
   "cell_type": "code",
   "execution_count": null,
   "id": "228307de",
   "metadata": {},
   "outputs": [],
   "source": []
  }
 ],
 "metadata": {
  "kernelspec": {
   "display_name": "Python 3",
   "language": "python",
   "name": "python3"
  },
  "language_info": {
   "codemirror_mode": {
    "name": "ipython",
    "version": 3
   },
   "file_extension": ".py",
   "mimetype": "text/x-python",
   "name": "python",
   "nbconvert_exporter": "python",
   "pygments_lexer": "ipython3",
   "version": "3.9.5"
  }
 },
 "nbformat": 4,
 "nbformat_minor": 5
}
