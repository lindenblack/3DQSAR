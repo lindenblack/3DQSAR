{
 "cells": [
  {
   "cell_type": "code",
   "execution_count": 1,
   "id": "6781fa5d",
   "metadata": {},
   "outputs": [],
   "source": [
    "import tensorflow as tf\n",
    "import numpy as np\n",
    "import pandas as pd\n",
    "from tensorflow.keras.preprocessing.image import ImageDataGenerator\n",
    "import os\n",
    "import cv2\n",
    "\n",
    "\n",
    "from batchgenerators.augmentations.spatial_transformations import augment_spatial_2"
   ]
  },
  {
   "cell_type": "code",
   "execution_count": 2,
   "id": "1d2f20d4",
   "metadata": {},
   "outputs": [],
   "source": [
    "def set_globals():\n",
    "    global open3D_directory\n",
    "    global dataset_name_num\n",
    "    global MIF_nodes \n",
    "    global xyz_offset\n",
    "    open3D_directory = \"C:\\open3dtools\"\n",
    "    dataset_name_num = \"06.DHFR\"\n",
    "    MIF_nodes = [23,27,21]\n",
    "    xyz_offset = [-11,-10,-9]\n",
    "set_globals()"
   ]
  },
  {
   "cell_type": "code",
   "execution_count": 3,
   "id": "066180cf",
   "metadata": {},
   "outputs": [],
   "source": [
    "def import_data():\n",
    "    path = os.path.join(r\"C:\\Users\\Linden\\GitHub\\3DQSAR\\data\\LabelledData\",dataset_name_num)\n",
    "    labels = pd.read_csv(os.path.join(path,\"pIC50.CSV\"))\n",
    "    Y = labels[\"Y\"].to_numpy()\n",
    "\n",
    "    data=[]\n",
    "\n",
    "    for entry in os.scandir(path):\n",
    "        if (entry.path.endswith(\".npy\")):\n",
    "            file = np.load(entry.path)\n",
    "            data.append(file)\n",
    "    field_1 = data[0::2]\n",
    "    field_2 = data[1::2]\n",
    "    X_1 = np.stack(field_1,0)\n",
    "    X_2 = np.stack(field_2,0)    \n",
    "    \n",
    "    return X_1, X_2, Y"
   ]
  },
  {
   "cell_type": "code",
   "execution_count": 4,
   "id": "0c12a39d",
   "metadata": {},
   "outputs": [],
   "source": [
    "X_1, X_2, Y = import_data()"
   ]
  },
  {
   "cell_type": "code",
   "execution_count": 5,
   "id": "079051b0",
   "metadata": {},
   "outputs": [],
   "source": [
    "#https://github.com/MIC-DKFZ/batchgenerators/blob/master/batchgenerators/augmentations/spatial_transformations.py#L309\n",
    "def augment_array(in_data):\n",
    "    from multiprocessing import freeze_support\n",
    "    freeze_support()\n",
    "    \n",
    "    data = np.reshape(in_data,(in_data.shape[0],\n",
    "                               1,\n",
    "                               in_data.shape[1],\n",
    "                               in_data.shape[2],\n",
    "                               in_data.shape[3]))\n",
    "    patch_size = [in_data.shape[1],in_data.shape[2],in_data.shape[3]]\n",
    "    augmented_data,_=augment_spatial_2(data=data,\n",
    "                                       seg=None,\n",
    "                                       patch_size=patch_size,\n",
    "                                       patch_center_dist_from_border=30,\n",
    "                                       do_elastic_deform=True,\n",
    "                                       deformation_scale=(0, 0.25),\n",
    "                                       do_rotation=True,\n",
    "                                       angle_x=(0, 2 * np.pi),\n",
    "                                       angle_y=(0, 2 * np.pi),\n",
    "                                       angle_z=(0, 2 * np.pi),\n",
    "                                       do_scale=True,\n",
    "                                       scale=(0.75, 1.25),\n",
    "                                       border_mode_data='nearest',\n",
    "                                       border_cval_data=0,\n",
    "                                       order_data=3,\n",
    "                                       border_mode_seg='constant',\n",
    "                                       border_cval_seg=0,\n",
    "                                       order_seg=0,\n",
    "                                       random_crop=True,\n",
    "                                       p_el_per_sample=0.5,\n",
    "                                       p_scale_per_sample=0.5,\n",
    "                                       p_rot_per_sample=0.5,\n",
    "                                       independent_scale_for_each_axis=False,\n",
    "                                       p_rot_per_axis = 0.5,\n",
    "                                       p_independent_scale_per_axis = 0.5)\n",
    "    \n",
    "    augmented_data = np.reshape(augmented_data,(augmented_data.shape[0],\n",
    "                                                augmented_data.shape[2],\n",
    "                                                augmented_data.shape[3],\n",
    "                                                augmented_data.shape[4]))\n",
    "#     print(f\"Input data shape: {in_data.shape}\\nOutput data shape: {augmented_data.shape}\")\n",
    "    return augmented_data"
   ]
  },
  {
   "cell_type": "code",
   "execution_count": 6,
   "id": "895fbbc8",
   "metadata": {},
   "outputs": [],
   "source": [
    "def data_augmentation(X_1,X_2,Y,augment_repetitions):\n",
    "    augmented_X_1 = []\n",
    "    augmented_X_2 = []\n",
    "    for itr in range(augment_repetitions): \n",
    "        augmented_data = augment_array(X_1)\n",
    "        augmented_X_1.append(augmented_data)\n",
    "        \n",
    "\n",
    "    for itr in range(augment_repetitions): \n",
    "        augmented_data = augment_array(X_2)\n",
    "        augmented_X_2.append(augmented_data)\n",
    "\n",
    "    for array in augmented_X_1:\n",
    "        X_1 = np.vstack([X_1,array])\n",
    "\n",
    "    for array in augmented_X_2:\n",
    "        X_2 = np.vstack([X_2,array])\n",
    "\n",
    "    Y=np.tile(Y,augment_repetitions+1)\n",
    "    \n",
    "    return X_1, X_2, Y"
   ]
  },
  {
   "cell_type": "code",
   "execution_count": 7,
   "id": "455521e3",
   "metadata": {},
   "outputs": [],
   "source": [
    "X_1, X_2, Y = data_augmentation(X_1,X_2,Y)"
   ]
  },
  {
   "cell_type": "code",
   "execution_count": 8,
   "id": "8bd028ec",
   "metadata": {},
   "outputs": [
    {
     "data": {
      "text/plain": [
       "(918, 25, 24, 26)"
      ]
     },
     "execution_count": 8,
     "metadata": {},
     "output_type": "execute_result"
    }
   ],
   "source": [
    "X_1.shape"
   ]
  },
  {
   "cell_type": "code",
   "execution_count": 9,
   "id": "aca38d75",
   "metadata": {},
   "outputs": [
    {
     "data": {
      "text/plain": [
       "(918,)"
      ]
     },
     "execution_count": 9,
     "metadata": {},
     "output_type": "execute_result"
    }
   ],
   "source": [
    "Y.shape"
   ]
  },
  {
   "cell_type": "code",
   "execution_count": null,
   "id": "fc22dbe0",
   "metadata": {},
   "outputs": [],
   "source": []
  }
 ],
 "metadata": {
  "kernelspec": {
   "display_name": "Python 3",
   "language": "python",
   "name": "python3"
  },
  "language_info": {
   "codemirror_mode": {
    "name": "ipython",
    "version": 3
   },
   "file_extension": ".py",
   "mimetype": "text/x-python",
   "name": "python",
   "nbconvert_exporter": "python",
   "pygments_lexer": "ipython3",
   "version": "3.9.5"
  }
 },
 "nbformat": 4,
 "nbformat_minor": 5
}
