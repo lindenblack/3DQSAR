{
 "cells": [
  {
   "cell_type": "code",
   "execution_count": 1,
   "id": "09870bd0",
   "metadata": {},
   "outputs": [],
   "source": [
    "import os\n",
    "import sys\n",
    "import pandas as pd\n",
    "import numpy as  np\n",
    "import time\n",
    "import subprocess"
   ]
  },
  {
   "cell_type": "code",
   "execution_count": 2,
   "id": "5cdf8f60",
   "metadata": {},
   "outputs": [],
   "source": [
    "def set_globals():\n",
    "    global open3D_directory\n",
    "    global dataset_name_num\n",
    "    global MIF_nodes \n",
    "    global xyz_offset\n",
    "    open3D_directory = \"C:\\open3dtools\"\n",
    "    dataset_name_num = \"06.DHFR\"\n",
    "    MIF_nodes = [23,27,21]\n",
    "    xyz_offset = [-11,-10,-9]\n",
    "set_globals()"
   ]
  },
  {
   "cell_type": "code",
   "execution_count": 13,
   "id": "500cf9d4",
   "metadata": {},
   "outputs": [],
   "source": [
    "path = os.path.join(r\"C:\\Users\\Linden\\GitHub\\3DQSAR\\data\\DatasetsEdited\",dataset_name_num,\"Data\")\n",
    "original_names=[]\n",
    "new_names=[]\n",
    "\n",
    "for entry in os.scandir(path):\n",
    "    if (entry.path.endswith(\".mol2\")):\n",
    "        name = entry.name\n",
    "        new_names.append(name)\n",
    "        \n",
    "path = os.path.join(r\"C:\\Users\\Linden\\GitHub\\3DQSAR\\data\\DatasetsEdited - Copy\",dataset_name_num,\"Data\")\n",
    "\n",
    "for entry in os.scandir(path):\n",
    "    if (entry.path.endswith(\".mol2\")):\n",
    "        name = entry.name\n",
    "        original_names.append(name)"
   ]
  },
  {
   "cell_type": "code",
   "execution_count": 14,
   "id": "58f46a52",
   "metadata": {},
   "outputs": [],
   "source": [
    "corrupted_names=[]\n",
    "for name in original_names:\n",
    "    if name not in new_names:\n",
    "        corrupted_names.append(name)"
   ]
  },
  {
   "cell_type": "code",
   "execution_count": 19,
   "id": "3c62435c",
   "metadata": {
    "collapsed": true
   },
   "outputs": [
    {
     "data": {
      "text/plain": [
       "['26_10.mol2',\n",
       " '26_5.mol2',\n",
       " '26_7.mol2',\n",
       " '26_8.mol2',\n",
       " '26_9.mol2',\n",
       " '34_2.mol2',\n",
       " '34_3.mol2',\n",
       " '34_4.mol2',\n",
       " '34_5.mol2',\n",
       " '34_6.mol2',\n",
       " '34_7.mol2',\n",
       " '34_9.mol2',\n",
       " '35_10.mol2',\n",
       " '35_3.mol2',\n",
       " '35_4.mol2',\n",
       " '35_5.mol2',\n",
       " '35_6.mol2',\n",
       " '35_7.mol2',\n",
       " '36_6e.mol2',\n",
       " '37_1a.mol2',\n",
       " '37_1b.mol2',\n",
       " '37_1c.mol2',\n",
       " '37_1d.mol2',\n",
       " '37_1e.mol2',\n",
       " '41_4f.mol2',\n",
       " '41_5b.mol2',\n",
       " '42_8.mol2',\n",
       " '43_10.mol2',\n",
       " '43_11.mol2',\n",
       " '43_13.mol2',\n",
       " '43_14.mol2',\n",
       " '43_15.mol2',\n",
       " '43_16.mol2',\n",
       " '43_17.mol2',\n",
       " '43_7.mol2',\n",
       " '43_8.mol2',\n",
       " '43_9.mol2',\n",
       " '44_10.mol2',\n",
       " '44_11.mol2',\n",
       " '44_12.mol2',\n",
       " '44_14.mol2',\n",
       " '44_16.mol2',\n",
       " '44_17.mol2',\n",
       " '44_18.mol2',\n",
       " '44_19.mol2',\n",
       " '44_2.mol2',\n",
       " '44_20.mol2',\n",
       " '44_21.mol2',\n",
       " '44_22.mol2',\n",
       " '44_23.mol2',\n",
       " '44_3.mol2',\n",
       " '44_6.mol2',\n",
       " '44_7.mol2',\n",
       " '44_8.mol2',\n",
       " '44_9.mol2']"
      ]
     },
     "execution_count": 19,
     "metadata": {},
     "output_type": "execute_result"
    }
   ],
   "source": [
    "corrupted_names"
   ]
  },
  {
   "cell_type": "code",
   "execution_count": 12,
   "id": "230b8068",
   "metadata": {},
   "outputs": [
    {
     "data": {
      "text/plain": [
       "361"
      ]
     },
     "execution_count": 12,
     "metadata": {},
     "output_type": "execute_result"
    }
   ],
   "source": [
    "len(new_names)"
   ]
  },
  {
   "cell_type": "code",
   "execution_count": 72,
   "id": "fc303995",
   "metadata": {},
   "outputs": [],
   "source": [
    "df=pd.read_csv(os.path.join(r\"C:\\Users\\Linden\\GitHub\\3DQSAR\\data\\LabelledData\",dataset_name_num,\"pIC50.csv\"))"
   ]
  },
  {
   "cell_type": "code",
   "execution_count": 73,
   "id": "964fd018",
   "metadata": {},
   "outputs": [
    {
     "data": {
      "text/html": [
       "<div>\n",
       "<style scoped>\n",
       "    .dataframe tbody tr th:only-of-type {\n",
       "        vertical-align: middle;\n",
       "    }\n",
       "\n",
       "    .dataframe tbody tr th {\n",
       "        vertical-align: top;\n",
       "    }\n",
       "\n",
       "    .dataframe thead th {\n",
       "        text-align: right;\n",
       "    }\n",
       "</style>\n",
       "<table border=\"1\" class=\"dataframe\">\n",
       "  <thead>\n",
       "    <tr style=\"text-align: right;\">\n",
       "      <th></th>\n",
       "      <th>Name</th>\n",
       "      <th>Y</th>\n",
       "      <th>ID</th>\n",
       "    </tr>\n",
       "  </thead>\n",
       "  <tbody>\n",
       "    <tr>\n",
       "      <th>0</th>\n",
       "      <td>10_11a</td>\n",
       "      <td>6.36</td>\n",
       "      <td>1</td>\n",
       "    </tr>\n",
       "    <tr>\n",
       "      <th>1</th>\n",
       "      <td>10_12a</td>\n",
       "      <td>7.16</td>\n",
       "      <td>2</td>\n",
       "    </tr>\n",
       "    <tr>\n",
       "      <th>2</th>\n",
       "      <td>10_18a</td>\n",
       "      <td>4.39</td>\n",
       "      <td>3</td>\n",
       "    </tr>\n",
       "    <tr>\n",
       "      <th>3</th>\n",
       "      <td>10_18c</td>\n",
       "      <td>5.07</td>\n",
       "      <td>4</td>\n",
       "    </tr>\n",
       "    <tr>\n",
       "      <th>4</th>\n",
       "      <td>10_1a</td>\n",
       "      <td>6.38</td>\n",
       "      <td>5</td>\n",
       "    </tr>\n",
       "  </tbody>\n",
       "</table>\n",
       "</div>"
      ],
      "text/plain": [
       "     Name     Y  ID\n",
       "0  10_11a  6.36   1\n",
       "1  10_12a  7.16   2\n",
       "2  10_18a  4.39   3\n",
       "3  10_18c  5.07   4\n",
       "4   10_1a  6.38   5"
      ]
     },
     "execution_count": 73,
     "metadata": {},
     "output_type": "execute_result"
    }
   ],
   "source": [
    "df.head()"
   ]
  },
  {
   "cell_type": "code",
   "execution_count": 74,
   "id": "0855ab5f",
   "metadata": {},
   "outputs": [],
   "source": [
    "df.set_index(\"Name\",inplace=True)"
   ]
  },
  {
   "cell_type": "code",
   "execution_count": 75,
   "id": "80d7dfc1",
   "metadata": {},
   "outputs": [
    {
     "data": {
      "text/plain": [
       "361"
      ]
     },
     "execution_count": 75,
     "metadata": {},
     "output_type": "execute_result"
    }
   ],
   "source": [
    "len(df)"
   ]
  },
  {
   "cell_type": "code",
   "execution_count": 76,
   "id": "d737d632",
   "metadata": {},
   "outputs": [],
   "source": [
    "for name in corrupted_names:\n",
    "    df.drop([name[:-5]],inplace=True)"
   ]
  },
  {
   "cell_type": "code",
   "execution_count": 77,
   "id": "9e0a41b6",
   "metadata": {},
   "outputs": [
    {
     "data": {
      "text/plain": [
       "306"
      ]
     },
     "execution_count": 77,
     "metadata": {},
     "output_type": "execute_result"
    }
   ],
   "source": [
    "len(df)"
   ]
  },
  {
   "cell_type": "code",
   "execution_count": 78,
   "id": "d9a06e5d",
   "metadata": {},
   "outputs": [],
   "source": [
    "df.reset_index(inplace=True)"
   ]
  },
  {
   "cell_type": "code",
   "execution_count": 80,
   "id": "89e454b6",
   "metadata": {},
   "outputs": [],
   "source": [
    "df.to_csv(path_or_buf = os.path.join(r\"C:\\Users\\Linden\\GitHub\\3DQSAR\\data\\LabelledData\",dataset_name_num,\"pIC50.csv\"),\n",
    "             index=False)\n"
   ]
  }
 ],
 "metadata": {
  "kernelspec": {
   "display_name": "Python 3",
   "language": "python",
   "name": "python3"
  },
  "language_info": {
   "codemirror_mode": {
    "name": "ipython",
    "version": 3
   },
   "file_extension": ".py",
   "mimetype": "text/x-python",
   "name": "python",
   "nbconvert_exporter": "python",
   "pygments_lexer": "ipython3",
   "version": "3.9.5"
  }
 },
 "nbformat": 4,
 "nbformat_minor": 5
}
